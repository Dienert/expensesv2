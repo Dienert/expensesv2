{
 "cells": [
  {
   "cell_type": "code",
   "execution_count": 1,
   "metadata": {
    "collapsed": true
   },
   "outputs": [],
   "source": [
    "from dask import dataframe as dd\n",
    "import pandas as pd"
   ]
  },
  {
   "cell_type": "code",
   "execution_count": 18,
   "metadata": {
    "collapsed": true
   },
   "outputs": [],
   "source": [
    "rec_abx_sm_pct = 60\n",
    "rec_abx_sm = 0"
   ]
  },
  {
   "cell_type": "code",
   "execution_count": 19,
   "metadata": {
    "scrolled": false
   },
   "outputs": [
    {
     "data": {
      "text/html": [
       "<div>\n",
       "<style scoped>\n",
       "    .dataframe tbody tr th:only-of-type {\n",
       "        vertical-align: middle;\n",
       "    }\n",
       "\n",
       "    .dataframe tbody tr th {\n",
       "        vertical-align: top;\n",
       "    }\n",
       "\n",
       "    .dataframe thead th {\n",
       "        text-align: right;\n",
       "    }\n",
       "</style>\n",
       "<table border=\"1\" class=\"dataframe\">\n",
       "  <thead>\n",
       "    <tr style=\"text-align: right;\">\n",
       "      <th></th>\n",
       "      <th>flexiveis_com_direito</th>\n",
       "      <th>flexiveis_sem_direito</th>\n",
       "      <th>residual_com_direito</th>\n",
       "      <th>residual_sem_direito</th>\n",
       "      <th>residual</th>\n",
       "      <th>mes</th>\n",
       "      <th>ano</th>\n",
       "    </tr>\n",
       "    <tr>\n",
       "      <th>dataEntradaRequerimento</th>\n",
       "      <th></th>\n",
       "      <th></th>\n",
       "      <th></th>\n",
       "      <th></th>\n",
       "      <th></th>\n",
       "      <th></th>\n",
       "      <th></th>\n",
       "    </tr>\n",
       "  </thead>\n",
       "  <tbody>\n",
       "    <tr>\n",
       "      <th>2017-11-30</th>\n",
       "      <td>0.0</td>\n",
       "      <td>0.0</td>\n",
       "      <td>1.0</td>\n",
       "      <td>0.0</td>\n",
       "      <td>1.0</td>\n",
       "      <td>11</td>\n",
       "      <td>2017</td>\n",
       "    </tr>\n",
       "    <tr>\n",
       "      <th>2017-12-31</th>\n",
       "      <td>0.0</td>\n",
       "      <td>0.0</td>\n",
       "      <td>0.0</td>\n",
       "      <td>0.0</td>\n",
       "      <td>0.0</td>\n",
       "      <td>12</td>\n",
       "      <td>2017</td>\n",
       "    </tr>\n",
       "    <tr>\n",
       "      <th>2018-01-31</th>\n",
       "      <td>6.0</td>\n",
       "      <td>5.0</td>\n",
       "      <td>29.0</td>\n",
       "      <td>40.0</td>\n",
       "      <td>69.0</td>\n",
       "      <td>1</td>\n",
       "      <td>2018</td>\n",
       "    </tr>\n",
       "    <tr>\n",
       "      <th>2018-02-28</th>\n",
       "      <td>5.0</td>\n",
       "      <td>11.0</td>\n",
       "      <td>53.0</td>\n",
       "      <td>65.0</td>\n",
       "      <td>118.0</td>\n",
       "      <td>2</td>\n",
       "      <td>2018</td>\n",
       "    </tr>\n",
       "    <tr>\n",
       "      <th>2018-03-31</th>\n",
       "      <td>16.0</td>\n",
       "      <td>15.0</td>\n",
       "      <td>97.0</td>\n",
       "      <td>112.0</td>\n",
       "      <td>209.0</td>\n",
       "      <td>3</td>\n",
       "      <td>2018</td>\n",
       "    </tr>\n",
       "    <tr>\n",
       "      <th>2018-04-30</th>\n",
       "      <td>7.0</td>\n",
       "      <td>14.0</td>\n",
       "      <td>65.0</td>\n",
       "      <td>80.0</td>\n",
       "      <td>145.0</td>\n",
       "      <td>4</td>\n",
       "      <td>2018</td>\n",
       "    </tr>\n",
       "    <tr>\n",
       "      <th>2018-05-31</th>\n",
       "      <td>29.0</td>\n",
       "      <td>42.0</td>\n",
       "      <td>176.0</td>\n",
       "      <td>218.0</td>\n",
       "      <td>394.0</td>\n",
       "      <td>5</td>\n",
       "      <td>2018</td>\n",
       "    </tr>\n",
       "    <tr>\n",
       "      <th>2018-06-30</th>\n",
       "      <td>55.0</td>\n",
       "      <td>95.0</td>\n",
       "      <td>285.0</td>\n",
       "      <td>371.0</td>\n",
       "      <td>656.0</td>\n",
       "      <td>6</td>\n",
       "      <td>2018</td>\n",
       "    </tr>\n",
       "    <tr>\n",
       "      <th>2018-07-31</th>\n",
       "      <td>139.0</td>\n",
       "      <td>38.0</td>\n",
       "      <td>527.0</td>\n",
       "      <td>185.0</td>\n",
       "      <td>712.0</td>\n",
       "      <td>7</td>\n",
       "      <td>2018</td>\n",
       "    </tr>\n",
       "    <tr>\n",
       "      <th>2018-08-31</th>\n",
       "      <td>110.0</td>\n",
       "      <td>142.0</td>\n",
       "      <td>480.0</td>\n",
       "      <td>591.0</td>\n",
       "      <td>1071.0</td>\n",
       "      <td>8</td>\n",
       "      <td>2018</td>\n",
       "    </tr>\n",
       "    <tr>\n",
       "      <th>2018-09-30</th>\n",
       "      <td>83.0</td>\n",
       "      <td>116.0</td>\n",
       "      <td>389.0</td>\n",
       "      <td>523.0</td>\n",
       "      <td>912.0</td>\n",
       "      <td>9</td>\n",
       "      <td>2018</td>\n",
       "    </tr>\n",
       "    <tr>\n",
       "      <th>2018-10-31</th>\n",
       "      <td>132.0</td>\n",
       "      <td>181.0</td>\n",
       "      <td>687.0</td>\n",
       "      <td>808.0</td>\n",
       "      <td>1495.0</td>\n",
       "      <td>10</td>\n",
       "      <td>2018</td>\n",
       "    </tr>\n",
       "    <tr>\n",
       "      <th>2018-11-30</th>\n",
       "      <td>165.0</td>\n",
       "      <td>216.0</td>\n",
       "      <td>742.0</td>\n",
       "      <td>948.0</td>\n",
       "      <td>1690.0</td>\n",
       "      <td>11</td>\n",
       "      <td>2018</td>\n",
       "    </tr>\n",
       "    <tr>\n",
       "      <th>2018-12-31</th>\n",
       "      <td>137.0</td>\n",
       "      <td>134.0</td>\n",
       "      <td>562.0</td>\n",
       "      <td>648.0</td>\n",
       "      <td>1210.0</td>\n",
       "      <td>12</td>\n",
       "      <td>2018</td>\n",
       "    </tr>\n",
       "    <tr>\n",
       "      <th>2019-01-31</th>\n",
       "      <td>128.0</td>\n",
       "      <td>124.0</td>\n",
       "      <td>676.0</td>\n",
       "      <td>670.0</td>\n",
       "      <td>1346.0</td>\n",
       "      <td>1</td>\n",
       "      <td>2019</td>\n",
       "    </tr>\n",
       "    <tr>\n",
       "      <th>2019-02-28</th>\n",
       "      <td>182.0</td>\n",
       "      <td>179.0</td>\n",
       "      <td>914.0</td>\n",
       "      <td>907.0</td>\n",
       "      <td>1821.0</td>\n",
       "      <td>2</td>\n",
       "      <td>2019</td>\n",
       "    </tr>\n",
       "    <tr>\n",
       "      <th>2019-03-31</th>\n",
       "      <td>128.0</td>\n",
       "      <td>250.0</td>\n",
       "      <td>597.0</td>\n",
       "      <td>1208.0</td>\n",
       "      <td>1805.0</td>\n",
       "      <td>3</td>\n",
       "      <td>2019</td>\n",
       "    </tr>\n",
       "    <tr>\n",
       "      <th>2019-04-30</th>\n",
       "      <td>192.0</td>\n",
       "      <td>246.0</td>\n",
       "      <td>800.0</td>\n",
       "      <td>1447.0</td>\n",
       "      <td>2247.0</td>\n",
       "      <td>4</td>\n",
       "      <td>2019</td>\n",
       "    </tr>\n",
       "    <tr>\n",
       "      <th>2019-05-31</th>\n",
       "      <td>243.0</td>\n",
       "      <td>180.0</td>\n",
       "      <td>1020.0</td>\n",
       "      <td>731.0</td>\n",
       "      <td>1751.0</td>\n",
       "      <td>5</td>\n",
       "      <td>2019</td>\n",
       "    </tr>\n",
       "    <tr>\n",
       "      <th>2019-06-30</th>\n",
       "      <td>69.0</td>\n",
       "      <td>221.0</td>\n",
       "      <td>306.0</td>\n",
       "      <td>881.0</td>\n",
       "      <td>1187.0</td>\n",
       "      <td>6</td>\n",
       "      <td>2019</td>\n",
       "    </tr>\n",
       "    <tr>\n",
       "      <th>2019-07-31</th>\n",
       "      <td>15.0</td>\n",
       "      <td>304.0</td>\n",
       "      <td>37.0</td>\n",
       "      <td>1372.0</td>\n",
       "      <td>1409.0</td>\n",
       "      <td>7</td>\n",
       "      <td>2019</td>\n",
       "    </tr>\n",
       "    <tr>\n",
       "      <th>2019-08-31</th>\n",
       "      <td>106.0</td>\n",
       "      <td>291.0</td>\n",
       "      <td>430.0</td>\n",
       "      <td>1357.0</td>\n",
       "      <td>1787.0</td>\n",
       "      <td>8</td>\n",
       "      <td>2019</td>\n",
       "    </tr>\n",
       "    <tr>\n",
       "      <th>2019-09-30</th>\n",
       "      <td>254.0</td>\n",
       "      <td>299.0</td>\n",
       "      <td>976.0</td>\n",
       "      <td>1291.0</td>\n",
       "      <td>2267.0</td>\n",
       "      <td>9</td>\n",
       "      <td>2019</td>\n",
       "    </tr>\n",
       "    <tr>\n",
       "      <th>2019-10-31</th>\n",
       "      <td>143.0</td>\n",
       "      <td>577.0</td>\n",
       "      <td>634.0</td>\n",
       "      <td>2488.0</td>\n",
       "      <td>3122.0</td>\n",
       "      <td>10</td>\n",
       "      <td>2019</td>\n",
       "    </tr>\n",
       "    <tr>\n",
       "      <th>2019-11-30</th>\n",
       "      <td>25.0</td>\n",
       "      <td>239.0</td>\n",
       "      <td>67.0</td>\n",
       "      <td>1074.0</td>\n",
       "      <td>1141.0</td>\n",
       "      <td>11</td>\n",
       "      <td>2019</td>\n",
       "    </tr>\n",
       "  </tbody>\n",
       "</table>\n",
       "</div>"
      ],
      "text/plain": [
       "                         flexiveis_com_direito  flexiveis_sem_direito  \\\n",
       "dataEntradaRequerimento                                                 \n",
       "2017-11-30                                 0.0                    0.0   \n",
       "2017-12-31                                 0.0                    0.0   \n",
       "2018-01-31                                 6.0                    5.0   \n",
       "2018-02-28                                 5.0                   11.0   \n",
       "2018-03-31                                16.0                   15.0   \n",
       "2018-04-30                                 7.0                   14.0   \n",
       "2018-05-31                                29.0                   42.0   \n",
       "2018-06-30                                55.0                   95.0   \n",
       "2018-07-31                               139.0                   38.0   \n",
       "2018-08-31                               110.0                  142.0   \n",
       "2018-09-30                                83.0                  116.0   \n",
       "2018-10-31                               132.0                  181.0   \n",
       "2018-11-30                               165.0                  216.0   \n",
       "2018-12-31                               137.0                  134.0   \n",
       "2019-01-31                               128.0                  124.0   \n",
       "2019-02-28                               182.0                  179.0   \n",
       "2019-03-31                               128.0                  250.0   \n",
       "2019-04-30                               192.0                  246.0   \n",
       "2019-05-31                               243.0                  180.0   \n",
       "2019-06-30                                69.0                  221.0   \n",
       "2019-07-31                                15.0                  304.0   \n",
       "2019-08-31                               106.0                  291.0   \n",
       "2019-09-30                               254.0                  299.0   \n",
       "2019-10-31                               143.0                  577.0   \n",
       "2019-11-30                                25.0                  239.0   \n",
       "\n",
       "                         residual_com_direito  residual_sem_direito  residual  \\\n",
       "dataEntradaRequerimento                                                         \n",
       "2017-11-30                                1.0                   0.0       1.0   \n",
       "2017-12-31                                0.0                   0.0       0.0   \n",
       "2018-01-31                               29.0                  40.0      69.0   \n",
       "2018-02-28                               53.0                  65.0     118.0   \n",
       "2018-03-31                               97.0                 112.0     209.0   \n",
       "2018-04-30                               65.0                  80.0     145.0   \n",
       "2018-05-31                              176.0                 218.0     394.0   \n",
       "2018-06-30                              285.0                 371.0     656.0   \n",
       "2018-07-31                              527.0                 185.0     712.0   \n",
       "2018-08-31                              480.0                 591.0    1071.0   \n",
       "2018-09-30                              389.0                 523.0     912.0   \n",
       "2018-10-31                              687.0                 808.0    1495.0   \n",
       "2018-11-30                              742.0                 948.0    1690.0   \n",
       "2018-12-31                              562.0                 648.0    1210.0   \n",
       "2019-01-31                              676.0                 670.0    1346.0   \n",
       "2019-02-28                              914.0                 907.0    1821.0   \n",
       "2019-03-31                              597.0                1208.0    1805.0   \n",
       "2019-04-30                              800.0                1447.0    2247.0   \n",
       "2019-05-31                             1020.0                 731.0    1751.0   \n",
       "2019-06-30                              306.0                 881.0    1187.0   \n",
       "2019-07-31                               37.0                1372.0    1409.0   \n",
       "2019-08-31                              430.0                1357.0    1787.0   \n",
       "2019-09-30                              976.0                1291.0    2267.0   \n",
       "2019-10-31                              634.0                2488.0    3122.0   \n",
       "2019-11-30                               67.0                1074.0    1141.0   \n",
       "\n",
       "                         mes   ano  \n",
       "dataEntradaRequerimento             \n",
       "2017-11-30                11  2017  \n",
       "2017-12-31                12  2017  \n",
       "2018-01-31                 1  2018  \n",
       "2018-02-28                 2  2018  \n",
       "2018-03-31                 3  2018  \n",
       "2018-04-30                 4  2018  \n",
       "2018-05-31                 5  2018  \n",
       "2018-06-30                 6  2018  \n",
       "2018-07-31                 7  2018  \n",
       "2018-08-31                 8  2018  \n",
       "2018-09-30                 9  2018  \n",
       "2018-10-31                10  2018  \n",
       "2018-11-30                11  2018  \n",
       "2018-12-31                12  2018  \n",
       "2019-01-31                 1  2019  \n",
       "2019-02-28                 2  2019  \n",
       "2019-03-31                 3  2019  \n",
       "2019-04-30                 4  2019  \n",
       "2019-05-31                 5  2019  \n",
       "2019-06-30                 6  2019  \n",
       "2019-07-31                 7  2019  \n",
       "2019-08-31                 8  2019  \n",
       "2019-09-30                 9  2019  \n",
       "2019-10-31                10  2019  \n",
       "2019-11-30                11  2019  "
      ]
     },
     "execution_count": 19,
     "metadata": {},
     "output_type": "execute_result"
    }
   ],
   "source": [
    "import dask.dataframe as dd\n",
    "import pandas as pd\n",
    "df = dd.read_parquet('D:/isaac/processado/remuneracoes_lv2.parquet').compute()\n",
    "df = df[df.dataExtracao.eq('2019-12-09')]\n",
    "df['dataEntradaRequerimento'] = df.dataEntradaRequerimento.astype('datetime64[ns]')\n",
    "df = df.set_index('dataEntradaRequerimento')\n",
    "df['grupo'] = df.apply(lambda r: 'flex' if r.rec_abx_sm <= rec_abx_sm and r.rec_abx_sm_pct >= 50/rec_abx_sm_pct else 'não Flex', axis=1)\n",
    "ndf = df.pivot_table(index='dataEntradaRequerimento', columns=['grupo','resultado_simulacao'], values='idOrigin', aggfunc='count').fillna(0)\n",
    "ndf.columns = ['flexiveis_com_direito','flexiveis_sem_direito','residual_com_direito','residual_sem_direito']\n",
    "ndf = ndf.groupby(pd.Grouper(freq='M')).sum()\n",
    "ndf['residual'] = ndf.residual_com_direito + ndf.residual_sem_direito\n",
    "ndf['mes'] = ndf.index.month\n",
    "ndf['ano'] = ndf.index.year\n",
    "ndf"
   ]
  },
  {
   "cell_type": "code",
   "execution_count": 17,
   "metadata": {
    "scrolled": false
   },
   "outputs": [
    {
     "name": "stdout",
     "output_type": "stream",
     "text": [
      "Max valor salário mínimo abaixo do mínimo:  112.81954273271637\n",
      "Original\n",
      "2017-11       1\n",
      "2018-01      80\n",
      "2018-02     134\n",
      "2018-03     240\n",
      "2018-04     166\n",
      "2018-05     465\n",
      "2018-06     806\n",
      "2018-07     889\n",
      "2018-08    1323\n",
      "2018-09    1111\n",
      "2018-10    1808\n",
      "2018-11    2071\n",
      "2018-12    1481\n",
      "2019-01    1598\n",
      "2019-02    2182\n",
      "2019-03    2183\n",
      "2019-04    2685\n",
      "2019-05    2174\n",
      "2019-06    1477\n",
      "2019-07    1728\n",
      "2019-08    2184\n",
      "2019-09    2820\n",
      "2019-10    3842\n",
      "2019-11    1405\n",
      "Name: idOrigin, dtype: int64\n",
      "não concedidos:\n",
      " {'x': ['2017-11', '2017-12', '2018-1', '2018-2', '2018-3', '2018-4', '2018-5', '2018-6', '2018-7', '2018-8', '2018-9', '2018-10', '2018-11', '2018-12', '2019-1', '2019-2', '2019-3', '2019-4', '2019-5', '2019-6', '2019-7', '2019-8', '2019-9', '2019-10', '2019-11'], 'y': [0, 0, 6, 18, 18, 17, 49, 113, 44, 165, 134, 204, 248, 161, 149, 210, 303, 296, 201, 260, 358, 343, 347, 674, 278]}\n",
      "concedidos:\n",
      " {'x': ['2017-11', '2017-12', '2018-1', '2018-2', '2018-3', '2018-4', '2018-5', '2018-6', '2018-7', '2018-8', '2018-9', '2018-10', '2018-11', '2018-12', '2019-1', '2019-2', '2019-3', '2019-4', '2019-5', '2019-6', '2019-7', '2019-8', '2019-9', '2019-10', '2019-11'], 'y': [0, 0, 6, 6, 18, 8, 36, 65, 157, 130, 94, 158, 199, 163, 154, 218, 153, 225, 285, 85, 16, 117, 292, 169, 26]}\n",
      "residual:\n",
      " {'x': ['2017-11', '2017-12', '2018-1', '2018-2', '2018-3', '2018-4', '2018-5', '2018-6', '2018-7', '2018-8', '2018-9', '2018-10', '2018-11', '2018-12', '2019-1', '2019-2', '2019-3', '2019-4', '2019-5', '2019-6', '2019-7', '2019-8', '2019-9', '2019-10', '2019-11'], 'y': [1, 0, 68, 110, 204, 141, 380, 628, 688, 1028, 883, 1446, 1624, 1157, 1295, 1754, 1727, 2164, 1688, 1132, 1354, 1724, 2181, 2999, 1101]}\n"
     ]
    },
    {
     "data": {
      "text/html": [
       "<div>\n",
       "<style scoped>\n",
       "    .dataframe tbody tr th:only-of-type {\n",
       "        vertical-align: middle;\n",
       "    }\n",
       "\n",
       "    .dataframe tbody tr th {\n",
       "        vertical-align: top;\n",
       "    }\n",
       "\n",
       "    .dataframe thead th {\n",
       "        text-align: right;\n",
       "    }\n",
       "</style>\n",
       "<table border=\"1\" class=\"dataframe\">\n",
       "  <thead>\n",
       "    <tr style=\"text-align: right;\">\n",
       "      <th></th>\n",
       "      <th>flexiveis_com_direito</th>\n",
       "      <th>flexiveis_sem_direito</th>\n",
       "      <th>residual_com_direito</th>\n",
       "      <th>residual_sem_direito</th>\n",
       "      <th>residual</th>\n",
       "      <th>mes</th>\n",
       "      <th>ano</th>\n",
       "    </tr>\n",
       "    <tr>\n",
       "      <th>dataEntradaRequerimento</th>\n",
       "      <th></th>\n",
       "      <th></th>\n",
       "      <th></th>\n",
       "      <th></th>\n",
       "      <th></th>\n",
       "      <th></th>\n",
       "      <th></th>\n",
       "    </tr>\n",
       "  </thead>\n",
       "  <tbody>\n",
       "    <tr>\n",
       "      <th>2017-11-30</th>\n",
       "      <td>0.0</td>\n",
       "      <td>0.0</td>\n",
       "      <td>1.0</td>\n",
       "      <td>0.0</td>\n",
       "      <td>1.0</td>\n",
       "      <td>11</td>\n",
       "      <td>2017</td>\n",
       "    </tr>\n",
       "    <tr>\n",
       "      <th>2017-12-31</th>\n",
       "      <td>0.0</td>\n",
       "      <td>0.0</td>\n",
       "      <td>0.0</td>\n",
       "      <td>0.0</td>\n",
       "      <td>0.0</td>\n",
       "      <td>12</td>\n",
       "      <td>2017</td>\n",
       "    </tr>\n",
       "    <tr>\n",
       "      <th>2018-01-31</th>\n",
       "      <td>6.0</td>\n",
       "      <td>6.0</td>\n",
       "      <td>29.0</td>\n",
       "      <td>39.0</td>\n",
       "      <td>68.0</td>\n",
       "      <td>1</td>\n",
       "      <td>2018</td>\n",
       "    </tr>\n",
       "    <tr>\n",
       "      <th>2018-02-28</th>\n",
       "      <td>6.0</td>\n",
       "      <td>18.0</td>\n",
       "      <td>52.0</td>\n",
       "      <td>58.0</td>\n",
       "      <td>110.0</td>\n",
       "      <td>2</td>\n",
       "      <td>2018</td>\n",
       "    </tr>\n",
       "    <tr>\n",
       "      <th>2018-03-31</th>\n",
       "      <td>18.0</td>\n",
       "      <td>18.0</td>\n",
       "      <td>95.0</td>\n",
       "      <td>109.0</td>\n",
       "      <td>204.0</td>\n",
       "      <td>3</td>\n",
       "      <td>2018</td>\n",
       "    </tr>\n",
       "    <tr>\n",
       "      <th>2018-04-30</th>\n",
       "      <td>8.0</td>\n",
       "      <td>17.0</td>\n",
       "      <td>64.0</td>\n",
       "      <td>77.0</td>\n",
       "      <td>141.0</td>\n",
       "      <td>4</td>\n",
       "      <td>2018</td>\n",
       "    </tr>\n",
       "    <tr>\n",
       "      <th>2018-05-31</th>\n",
       "      <td>36.0</td>\n",
       "      <td>49.0</td>\n",
       "      <td>169.0</td>\n",
       "      <td>211.0</td>\n",
       "      <td>380.0</td>\n",
       "      <td>5</td>\n",
       "      <td>2018</td>\n",
       "    </tr>\n",
       "    <tr>\n",
       "      <th>2018-06-30</th>\n",
       "      <td>65.0</td>\n",
       "      <td>113.0</td>\n",
       "      <td>275.0</td>\n",
       "      <td>353.0</td>\n",
       "      <td>628.0</td>\n",
       "      <td>6</td>\n",
       "      <td>2018</td>\n",
       "    </tr>\n",
       "    <tr>\n",
       "      <th>2018-07-31</th>\n",
       "      <td>157.0</td>\n",
       "      <td>44.0</td>\n",
       "      <td>509.0</td>\n",
       "      <td>179.0</td>\n",
       "      <td>688.0</td>\n",
       "      <td>7</td>\n",
       "      <td>2018</td>\n",
       "    </tr>\n",
       "    <tr>\n",
       "      <th>2018-08-31</th>\n",
       "      <td>130.0</td>\n",
       "      <td>165.0</td>\n",
       "      <td>460.0</td>\n",
       "      <td>568.0</td>\n",
       "      <td>1028.0</td>\n",
       "      <td>8</td>\n",
       "      <td>2018</td>\n",
       "    </tr>\n",
       "    <tr>\n",
       "      <th>2018-09-30</th>\n",
       "      <td>94.0</td>\n",
       "      <td>134.0</td>\n",
       "      <td>378.0</td>\n",
       "      <td>505.0</td>\n",
       "      <td>883.0</td>\n",
       "      <td>9</td>\n",
       "      <td>2018</td>\n",
       "    </tr>\n",
       "    <tr>\n",
       "      <th>2018-10-31</th>\n",
       "      <td>158.0</td>\n",
       "      <td>204.0</td>\n",
       "      <td>661.0</td>\n",
       "      <td>785.0</td>\n",
       "      <td>1446.0</td>\n",
       "      <td>10</td>\n",
       "      <td>2018</td>\n",
       "    </tr>\n",
       "    <tr>\n",
       "      <th>2018-11-30</th>\n",
       "      <td>199.0</td>\n",
       "      <td>248.0</td>\n",
       "      <td>708.0</td>\n",
       "      <td>916.0</td>\n",
       "      <td>1624.0</td>\n",
       "      <td>11</td>\n",
       "      <td>2018</td>\n",
       "    </tr>\n",
       "    <tr>\n",
       "      <th>2018-12-31</th>\n",
       "      <td>163.0</td>\n",
       "      <td>161.0</td>\n",
       "      <td>536.0</td>\n",
       "      <td>621.0</td>\n",
       "      <td>1157.0</td>\n",
       "      <td>12</td>\n",
       "      <td>2018</td>\n",
       "    </tr>\n",
       "    <tr>\n",
       "      <th>2019-01-31</th>\n",
       "      <td>154.0</td>\n",
       "      <td>149.0</td>\n",
       "      <td>650.0</td>\n",
       "      <td>645.0</td>\n",
       "      <td>1295.0</td>\n",
       "      <td>1</td>\n",
       "      <td>2019</td>\n",
       "    </tr>\n",
       "    <tr>\n",
       "      <th>2019-02-28</th>\n",
       "      <td>218.0</td>\n",
       "      <td>210.0</td>\n",
       "      <td>878.0</td>\n",
       "      <td>876.0</td>\n",
       "      <td>1754.0</td>\n",
       "      <td>2</td>\n",
       "      <td>2019</td>\n",
       "    </tr>\n",
       "    <tr>\n",
       "      <th>2019-03-31</th>\n",
       "      <td>153.0</td>\n",
       "      <td>303.0</td>\n",
       "      <td>572.0</td>\n",
       "      <td>1155.0</td>\n",
       "      <td>1727.0</td>\n",
       "      <td>3</td>\n",
       "      <td>2019</td>\n",
       "    </tr>\n",
       "    <tr>\n",
       "      <th>2019-04-30</th>\n",
       "      <td>225.0</td>\n",
       "      <td>296.0</td>\n",
       "      <td>767.0</td>\n",
       "      <td>1397.0</td>\n",
       "      <td>2164.0</td>\n",
       "      <td>4</td>\n",
       "      <td>2019</td>\n",
       "    </tr>\n",
       "    <tr>\n",
       "      <th>2019-05-31</th>\n",
       "      <td>285.0</td>\n",
       "      <td>201.0</td>\n",
       "      <td>978.0</td>\n",
       "      <td>710.0</td>\n",
       "      <td>1688.0</td>\n",
       "      <td>5</td>\n",
       "      <td>2019</td>\n",
       "    </tr>\n",
       "    <tr>\n",
       "      <th>2019-06-30</th>\n",
       "      <td>85.0</td>\n",
       "      <td>260.0</td>\n",
       "      <td>290.0</td>\n",
       "      <td>842.0</td>\n",
       "      <td>1132.0</td>\n",
       "      <td>6</td>\n",
       "      <td>2019</td>\n",
       "    </tr>\n",
       "    <tr>\n",
       "      <th>2019-07-31</th>\n",
       "      <td>16.0</td>\n",
       "      <td>358.0</td>\n",
       "      <td>36.0</td>\n",
       "      <td>1318.0</td>\n",
       "      <td>1354.0</td>\n",
       "      <td>7</td>\n",
       "      <td>2019</td>\n",
       "    </tr>\n",
       "    <tr>\n",
       "      <th>2019-08-31</th>\n",
       "      <td>117.0</td>\n",
       "      <td>343.0</td>\n",
       "      <td>419.0</td>\n",
       "      <td>1305.0</td>\n",
       "      <td>1724.0</td>\n",
       "      <td>8</td>\n",
       "      <td>2019</td>\n",
       "    </tr>\n",
       "    <tr>\n",
       "      <th>2019-09-30</th>\n",
       "      <td>292.0</td>\n",
       "      <td>347.0</td>\n",
       "      <td>938.0</td>\n",
       "      <td>1243.0</td>\n",
       "      <td>2181.0</td>\n",
       "      <td>9</td>\n",
       "      <td>2019</td>\n",
       "    </tr>\n",
       "    <tr>\n",
       "      <th>2019-10-31</th>\n",
       "      <td>169.0</td>\n",
       "      <td>674.0</td>\n",
       "      <td>608.0</td>\n",
       "      <td>2391.0</td>\n",
       "      <td>2999.0</td>\n",
       "      <td>10</td>\n",
       "      <td>2019</td>\n",
       "    </tr>\n",
       "    <tr>\n",
       "      <th>2019-11-30</th>\n",
       "      <td>26.0</td>\n",
       "      <td>278.0</td>\n",
       "      <td>66.0</td>\n",
       "      <td>1035.0</td>\n",
       "      <td>1101.0</td>\n",
       "      <td>11</td>\n",
       "      <td>2019</td>\n",
       "    </tr>\n",
       "  </tbody>\n",
       "</table>\n",
       "</div>"
      ],
      "text/plain": [
       "                         flexiveis_com_direito  flexiveis_sem_direito  \\\n",
       "dataEntradaRequerimento                                                 \n",
       "2017-11-30                                 0.0                    0.0   \n",
       "2017-12-31                                 0.0                    0.0   \n",
       "2018-01-31                                 6.0                    6.0   \n",
       "2018-02-28                                 6.0                   18.0   \n",
       "2018-03-31                                18.0                   18.0   \n",
       "2018-04-30                                 8.0                   17.0   \n",
       "2018-05-31                                36.0                   49.0   \n",
       "2018-06-30                                65.0                  113.0   \n",
       "2018-07-31                               157.0                   44.0   \n",
       "2018-08-31                               130.0                  165.0   \n",
       "2018-09-30                                94.0                  134.0   \n",
       "2018-10-31                               158.0                  204.0   \n",
       "2018-11-30                               199.0                  248.0   \n",
       "2018-12-31                               163.0                  161.0   \n",
       "2019-01-31                               154.0                  149.0   \n",
       "2019-02-28                               218.0                  210.0   \n",
       "2019-03-31                               153.0                  303.0   \n",
       "2019-04-30                               225.0                  296.0   \n",
       "2019-05-31                               285.0                  201.0   \n",
       "2019-06-30                                85.0                  260.0   \n",
       "2019-07-31                                16.0                  358.0   \n",
       "2019-08-31                               117.0                  343.0   \n",
       "2019-09-30                               292.0                  347.0   \n",
       "2019-10-31                               169.0                  674.0   \n",
       "2019-11-30                                26.0                  278.0   \n",
       "\n",
       "                         residual_com_direito  residual_sem_direito  residual  \\\n",
       "dataEntradaRequerimento                                                         \n",
       "2017-11-30                                1.0                   0.0       1.0   \n",
       "2017-12-31                                0.0                   0.0       0.0   \n",
       "2018-01-31                               29.0                  39.0      68.0   \n",
       "2018-02-28                               52.0                  58.0     110.0   \n",
       "2018-03-31                               95.0                 109.0     204.0   \n",
       "2018-04-30                               64.0                  77.0     141.0   \n",
       "2018-05-31                              169.0                 211.0     380.0   \n",
       "2018-06-30                              275.0                 353.0     628.0   \n",
       "2018-07-31                              509.0                 179.0     688.0   \n",
       "2018-08-31                              460.0                 568.0    1028.0   \n",
       "2018-09-30                              378.0                 505.0     883.0   \n",
       "2018-10-31                              661.0                 785.0    1446.0   \n",
       "2018-11-30                              708.0                 916.0    1624.0   \n",
       "2018-12-31                              536.0                 621.0    1157.0   \n",
       "2019-01-31                              650.0                 645.0    1295.0   \n",
       "2019-02-28                              878.0                 876.0    1754.0   \n",
       "2019-03-31                              572.0                1155.0    1727.0   \n",
       "2019-04-30                              767.0                1397.0    2164.0   \n",
       "2019-05-31                              978.0                 710.0    1688.0   \n",
       "2019-06-30                              290.0                 842.0    1132.0   \n",
       "2019-07-31                               36.0                1318.0    1354.0   \n",
       "2019-08-31                              419.0                1305.0    1724.0   \n",
       "2019-09-30                              938.0                1243.0    2181.0   \n",
       "2019-10-31                              608.0                2391.0    2999.0   \n",
       "2019-11-30                               66.0                1035.0    1101.0   \n",
       "\n",
       "                         mes   ano  \n",
       "dataEntradaRequerimento             \n",
       "2017-11-30                11  2017  \n",
       "2017-12-31                12  2017  \n",
       "2018-01-31                 1  2018  \n",
       "2018-02-28                 2  2018  \n",
       "2018-03-31                 3  2018  \n",
       "2018-04-30                 4  2018  \n",
       "2018-05-31                 5  2018  \n",
       "2018-06-30                 6  2018  \n",
       "2018-07-31                 7  2018  \n",
       "2018-08-31                 8  2018  \n",
       "2018-09-30                 9  2018  \n",
       "2018-10-31                10  2018  \n",
       "2018-11-30                11  2018  \n",
       "2018-12-31                12  2018  \n",
       "2019-01-31                 1  2019  \n",
       "2019-02-28                 2  2019  \n",
       "2019-03-31                 3  2019  \n",
       "2019-04-30                 4  2019  \n",
       "2019-05-31                 5  2019  \n",
       "2019-06-30                 6  2019  \n",
       "2019-07-31                 7  2019  \n",
       "2019-08-31                 8  2019  \n",
       "2019-09-30                 9  2019  \n",
       "2019-10-31                10  2019  \n",
       "2019-11-30                11  2019  "
      ]
     },
     "execution_count": 17,
     "metadata": {},
     "output_type": "execute_result"
    }
   ],
   "source": [
    "df = dd.read_parquet('D:/isaac/processado/remuneracoes_lv2.parquet')\n",
    "df['dataEntradaRequerimento'] = dd.to_datetime(df['dataEntradaRequerimento'])\n",
    "df['dataExtracao'] = dd.to_datetime(df['dataExtracao'])\n",
    "df = df[df['dataExtracao'] == df['dataExtracao'].max()]\n",
    "df = df.compute()\n",
    "df = df.sort_values('dataEntradaRequerimento')\n",
    "#print(df.columns)\n",
    "print('Max valor salário mínimo abaixo do mínimo: ', df['rec_abx_sm_pct'].max())\n",
    "df.index = df.dataEntradaRequerimento\n",
    "grouped = df.groupby([df.index.month, df.index.year])['idOrigin'].nunique()\n",
    "new_index = [str(year)+'-'+str(month).zfill(2) for month, year in grouped.index]\n",
    "grouped.index = new_index\n",
    "grouped = grouped.sort_index()\n",
    "print('Original')\n",
    "print(grouped)\n",
    "residual = {'x': grouped.index.astype(str).values.tolist(), 'y': grouped.values.tolist()}\n",
    "if rec_abx_sm_pct is not None and rec_abx_sm is not None:\n",
    "    df = df[df.dataExtracao.eq('2019-12-09')]\n",
    "    df['dataEntradaRequerimento'] = df.dataEntradaRequerimento.astype('datetime64[ns]')\n",
    "    df = df.set_index('dataEntradaRequerimento')\n",
    "    df['grupo'] = df.apply(lambda r: 'flex' if r.rec_abx_sm <= rec_abx_sm and r.rec_abx_sm_pct >= 50/rec_abx_sm_pct else 'não Flex', axis=1)\n",
    "    ndf = df.pivot_table(index='dataEntradaRequerimento', columns=['grupo','resultado_simulacao'], values='idOrigin', aggfunc='count').fillna(0)\n",
    "    ndf.columns = ['flexiveis_com_direito','flexiveis_sem_direito','residual_com_direito','residual_sem_direito']\n",
    "    ndf = ndf.groupby(pd.Grouper(freq='M')).sum()\n",
    "    ndf['residual'] = ndf.residual_com_direito + ndf.residual_sem_direito\n",
    "    ndf['mes'] = ndf.index.month\n",
    "    ndf['ano'] = ndf.index.year\n",
    "    competencias = ndf.apply(lambda x: x['ano'].astype(int).astype(str)+'-'+x['mes'].astype(int).astype(str), axis=1).values.tolist()\n",
    "    nao_concedidos = {'x': competencias, 'y': ndf.flexiveis_sem_direito.astype(int).values.tolist()}\n",
    "    print(\"não concedidos:\\n\", nao_concedidos)\n",
    "    concedidos = {'x': competencias, 'y': ndf.flexiveis_com_direito.astype(int).values.tolist()}\n",
    "    print(\"concedidos:\\n\", concedidos)\n",
    "    residual = {'x': competencias, 'y': ndf.residual.astype(int).values.tolist()}\n",
    "    print(\"residual:\\n\", residual)\n",
    "else:\n",
    "    nao_concedidos = {'x': [], 'y': []}\n",
    "    concedidos = {'x': [], 'y': []}\n",
    "ndf"
   ]
  },
  {
   "cell_type": "code",
   "execution_count": 14,
   "metadata": {},
   "outputs": [
    {
     "data": {
      "text/html": [
       "        <script type=\"text/javascript\">\n",
       "        window.PlotlyConfig = {MathJaxConfig: 'local'};\n",
       "        if (window.MathJax) {MathJax.Hub.Config({SVG: {font: \"STIX-Web\"}});}\n",
       "        if (typeof require !== 'undefined') {\n",
       "        require.undef(\"plotly\");\n",
       "        requirejs.config({\n",
       "            paths: {\n",
       "                'plotly': ['https://cdn.plot.ly/plotly-latest.min']\n",
       "            }\n",
       "        });\n",
       "        require(['plotly'], function(Plotly) {\n",
       "            window._Plotly = Plotly;\n",
       "        });\n",
       "        }\n",
       "        </script>\n",
       "        "
      ]
     },
     "metadata": {},
     "output_type": "display_data"
    },
    {
     "data": {
      "application/vnd.plotly.v1+json": {
       "config": {
        "linkText": "Export to plot.ly",
        "plotlyServerURL": "https://plot.ly",
        "showLink": false
       },
       "data": [
        {
         "marker": {
          "color": "#37536D"
         },
         "name": "Residual",
         "type": "bar",
         "x": [
          "2017-11",
          "2017-12",
          "2018-1",
          "2018-2",
          "2018-3",
          "2018-4",
          "2018-5",
          "2018-6",
          "2018-7",
          "2018-8",
          "2018-9",
          "2018-10",
          "2018-11",
          "2018-12",
          "2019-1",
          "2019-2",
          "2019-3",
          "2019-4",
          "2019-5",
          "2019-6",
          "2019-7",
          "2019-8",
          "2019-9",
          "2019-10",
          "2019-11"
         ],
         "y": [
          1,
          0,
          66,
          103,
          192,
          135,
          362,
          594,
          636,
          966,
          831,
          1375,
          1537,
          1084,
          1217,
          1663,
          1640,
          2058,
          1607,
          1062,
          1272,
          1633,
          2067,
          2827,
          1033
         ]
        },
        {
         "marker": {
          "color": "#ea4141"
         },
         "name": "Não Concedidos",
         "type": "bar",
         "x": [
          "2017-11",
          "2017-12",
          "2018-1",
          "2018-2",
          "2018-3",
          "2018-4",
          "2018-5",
          "2018-6",
          "2018-7",
          "2018-8",
          "2018-9",
          "2018-10",
          "2018-11",
          "2018-12",
          "2019-1",
          "2019-2",
          "2019-3",
          "2019-4",
          "2019-5",
          "2019-6",
          "2019-7",
          "2019-8",
          "2019-9",
          "2019-10",
          "2019-11"
         ],
         "y": [
          0,
          0,
          6,
          22,
          22,
          21,
          58,
          133,
          58,
          202,
          164,
          238,
          290,
          207,
          180,
          257,
          359,
          362,
          236,
          314,
          437,
          416,
          418,
          810,
          340
         ]
        },
        {
         "marker": {
          "color": "#16cc77"
         },
         "name": "Concedidos",
         "type": "bar",
         "x": [
          "2017-11",
          "2017-12",
          "2018-1",
          "2018-2",
          "2018-3",
          "2018-4",
          "2018-5",
          "2018-6",
          "2018-7",
          "2018-8",
          "2018-9",
          "2018-10",
          "2018-11",
          "2018-12",
          "2019-1",
          "2019-2",
          "2019-3",
          "2019-4",
          "2019-5",
          "2019-6",
          "2019-7",
          "2019-8",
          "2019-9",
          "2019-10",
          "2019-11"
         ],
         "y": [
          0,
          0,
          8,
          9,
          26,
          10,
          45,
          79,
          195,
          155,
          116,
          195,
          244,
          190,
          201,
          262,
          184,
          265,
          331,
          101,
          19,
          135,
          335,
          205,
          32
         ]
        }
       ],
       "layout": {
        "barmode": "stack",
        "template": {
         "data": {
          "bar": [
           {
            "error_x": {
             "color": "#2a3f5f"
            },
            "error_y": {
             "color": "#2a3f5f"
            },
            "marker": {
             "line": {
              "color": "#E5ECF6",
              "width": 0.5
             }
            },
            "type": "bar"
           }
          ],
          "barpolar": [
           {
            "marker": {
             "line": {
              "color": "#E5ECF6",
              "width": 0.5
             }
            },
            "type": "barpolar"
           }
          ],
          "carpet": [
           {
            "aaxis": {
             "endlinecolor": "#2a3f5f",
             "gridcolor": "white",
             "linecolor": "white",
             "minorgridcolor": "white",
             "startlinecolor": "#2a3f5f"
            },
            "baxis": {
             "endlinecolor": "#2a3f5f",
             "gridcolor": "white",
             "linecolor": "white",
             "minorgridcolor": "white",
             "startlinecolor": "#2a3f5f"
            },
            "type": "carpet"
           }
          ],
          "choropleth": [
           {
            "colorbar": {
             "outlinewidth": 0,
             "ticks": ""
            },
            "type": "choropleth"
           }
          ],
          "contour": [
           {
            "colorbar": {
             "outlinewidth": 0,
             "ticks": ""
            },
            "colorscale": [
             [
              0,
              "#0d0887"
             ],
             [
              0.1111111111111111,
              "#46039f"
             ],
             [
              0.2222222222222222,
              "#7201a8"
             ],
             [
              0.3333333333333333,
              "#9c179e"
             ],
             [
              0.4444444444444444,
              "#bd3786"
             ],
             [
              0.5555555555555556,
              "#d8576b"
             ],
             [
              0.6666666666666666,
              "#ed7953"
             ],
             [
              0.7777777777777778,
              "#fb9f3a"
             ],
             [
              0.8888888888888888,
              "#fdca26"
             ],
             [
              1,
              "#f0f921"
             ]
            ],
            "type": "contour"
           }
          ],
          "contourcarpet": [
           {
            "colorbar": {
             "outlinewidth": 0,
             "ticks": ""
            },
            "type": "contourcarpet"
           }
          ],
          "heatmap": [
           {
            "colorbar": {
             "outlinewidth": 0,
             "ticks": ""
            },
            "colorscale": [
             [
              0,
              "#0d0887"
             ],
             [
              0.1111111111111111,
              "#46039f"
             ],
             [
              0.2222222222222222,
              "#7201a8"
             ],
             [
              0.3333333333333333,
              "#9c179e"
             ],
             [
              0.4444444444444444,
              "#bd3786"
             ],
             [
              0.5555555555555556,
              "#d8576b"
             ],
             [
              0.6666666666666666,
              "#ed7953"
             ],
             [
              0.7777777777777778,
              "#fb9f3a"
             ],
             [
              0.8888888888888888,
              "#fdca26"
             ],
             [
              1,
              "#f0f921"
             ]
            ],
            "type": "heatmap"
           }
          ],
          "heatmapgl": [
           {
            "colorbar": {
             "outlinewidth": 0,
             "ticks": ""
            },
            "colorscale": [
             [
              0,
              "#0d0887"
             ],
             [
              0.1111111111111111,
              "#46039f"
             ],
             [
              0.2222222222222222,
              "#7201a8"
             ],
             [
              0.3333333333333333,
              "#9c179e"
             ],
             [
              0.4444444444444444,
              "#bd3786"
             ],
             [
              0.5555555555555556,
              "#d8576b"
             ],
             [
              0.6666666666666666,
              "#ed7953"
             ],
             [
              0.7777777777777778,
              "#fb9f3a"
             ],
             [
              0.8888888888888888,
              "#fdca26"
             ],
             [
              1,
              "#f0f921"
             ]
            ],
            "type": "heatmapgl"
           }
          ],
          "histogram": [
           {
            "marker": {
             "colorbar": {
              "outlinewidth": 0,
              "ticks": ""
             }
            },
            "type": "histogram"
           }
          ],
          "histogram2d": [
           {
            "colorbar": {
             "outlinewidth": 0,
             "ticks": ""
            },
            "colorscale": [
             [
              0,
              "#0d0887"
             ],
             [
              0.1111111111111111,
              "#46039f"
             ],
             [
              0.2222222222222222,
              "#7201a8"
             ],
             [
              0.3333333333333333,
              "#9c179e"
             ],
             [
              0.4444444444444444,
              "#bd3786"
             ],
             [
              0.5555555555555556,
              "#d8576b"
             ],
             [
              0.6666666666666666,
              "#ed7953"
             ],
             [
              0.7777777777777778,
              "#fb9f3a"
             ],
             [
              0.8888888888888888,
              "#fdca26"
             ],
             [
              1,
              "#f0f921"
             ]
            ],
            "type": "histogram2d"
           }
          ],
          "histogram2dcontour": [
           {
            "colorbar": {
             "outlinewidth": 0,
             "ticks": ""
            },
            "colorscale": [
             [
              0,
              "#0d0887"
             ],
             [
              0.1111111111111111,
              "#46039f"
             ],
             [
              0.2222222222222222,
              "#7201a8"
             ],
             [
              0.3333333333333333,
              "#9c179e"
             ],
             [
              0.4444444444444444,
              "#bd3786"
             ],
             [
              0.5555555555555556,
              "#d8576b"
             ],
             [
              0.6666666666666666,
              "#ed7953"
             ],
             [
              0.7777777777777778,
              "#fb9f3a"
             ],
             [
              0.8888888888888888,
              "#fdca26"
             ],
             [
              1,
              "#f0f921"
             ]
            ],
            "type": "histogram2dcontour"
           }
          ],
          "mesh3d": [
           {
            "colorbar": {
             "outlinewidth": 0,
             "ticks": ""
            },
            "type": "mesh3d"
           }
          ],
          "parcoords": [
           {
            "line": {
             "colorbar": {
              "outlinewidth": 0,
              "ticks": ""
             }
            },
            "type": "parcoords"
           }
          ],
          "scatter": [
           {
            "marker": {
             "colorbar": {
              "outlinewidth": 0,
              "ticks": ""
             }
            },
            "type": "scatter"
           }
          ],
          "scatter3d": [
           {
            "line": {
             "colorbar": {
              "outlinewidth": 0,
              "ticks": ""
             }
            },
            "marker": {
             "colorbar": {
              "outlinewidth": 0,
              "ticks": ""
             }
            },
            "type": "scatter3d"
           }
          ],
          "scattercarpet": [
           {
            "marker": {
             "colorbar": {
              "outlinewidth": 0,
              "ticks": ""
             }
            },
            "type": "scattercarpet"
           }
          ],
          "scattergeo": [
           {
            "marker": {
             "colorbar": {
              "outlinewidth": 0,
              "ticks": ""
             }
            },
            "type": "scattergeo"
           }
          ],
          "scattergl": [
           {
            "marker": {
             "colorbar": {
              "outlinewidth": 0,
              "ticks": ""
             }
            },
            "type": "scattergl"
           }
          ],
          "scattermapbox": [
           {
            "marker": {
             "colorbar": {
              "outlinewidth": 0,
              "ticks": ""
             }
            },
            "type": "scattermapbox"
           }
          ],
          "scatterpolar": [
           {
            "marker": {
             "colorbar": {
              "outlinewidth": 0,
              "ticks": ""
             }
            },
            "type": "scatterpolar"
           }
          ],
          "scatterpolargl": [
           {
            "marker": {
             "colorbar": {
              "outlinewidth": 0,
              "ticks": ""
             }
            },
            "type": "scatterpolargl"
           }
          ],
          "scatterternary": [
           {
            "marker": {
             "colorbar": {
              "outlinewidth": 0,
              "ticks": ""
             }
            },
            "type": "scatterternary"
           }
          ],
          "surface": [
           {
            "colorbar": {
             "outlinewidth": 0,
             "ticks": ""
            },
            "colorscale": [
             [
              0,
              "#0d0887"
             ],
             [
              0.1111111111111111,
              "#46039f"
             ],
             [
              0.2222222222222222,
              "#7201a8"
             ],
             [
              0.3333333333333333,
              "#9c179e"
             ],
             [
              0.4444444444444444,
              "#bd3786"
             ],
             [
              0.5555555555555556,
              "#d8576b"
             ],
             [
              0.6666666666666666,
              "#ed7953"
             ],
             [
              0.7777777777777778,
              "#fb9f3a"
             ],
             [
              0.8888888888888888,
              "#fdca26"
             ],
             [
              1,
              "#f0f921"
             ]
            ],
            "type": "surface"
           }
          ],
          "table": [
           {
            "cells": {
             "fill": {
              "color": "#EBF0F8"
             },
             "line": {
              "color": "white"
             }
            },
            "header": {
             "fill": {
              "color": "#C8D4E3"
             },
             "line": {
              "color": "white"
             }
            },
            "type": "table"
           }
          ]
         },
         "layout": {
          "annotationdefaults": {
           "arrowcolor": "#2a3f5f",
           "arrowhead": 0,
           "arrowwidth": 1
          },
          "colorscale": {
           "diverging": [
            [
             0,
             "#8e0152"
            ],
            [
             0.1,
             "#c51b7d"
            ],
            [
             0.2,
             "#de77ae"
            ],
            [
             0.3,
             "#f1b6da"
            ],
            [
             0.4,
             "#fde0ef"
            ],
            [
             0.5,
             "#f7f7f7"
            ],
            [
             0.6,
             "#e6f5d0"
            ],
            [
             0.7,
             "#b8e186"
            ],
            [
             0.8,
             "#7fbc41"
            ],
            [
             0.9,
             "#4d9221"
            ],
            [
             1,
             "#276419"
            ]
           ],
           "sequential": [
            [
             0,
             "#0d0887"
            ],
            [
             0.1111111111111111,
             "#46039f"
            ],
            [
             0.2222222222222222,
             "#7201a8"
            ],
            [
             0.3333333333333333,
             "#9c179e"
            ],
            [
             0.4444444444444444,
             "#bd3786"
            ],
            [
             0.5555555555555556,
             "#d8576b"
            ],
            [
             0.6666666666666666,
             "#ed7953"
            ],
            [
             0.7777777777777778,
             "#fb9f3a"
            ],
            [
             0.8888888888888888,
             "#fdca26"
            ],
            [
             1,
             "#f0f921"
            ]
           ],
           "sequentialminus": [
            [
             0,
             "#0d0887"
            ],
            [
             0.1111111111111111,
             "#46039f"
            ],
            [
             0.2222222222222222,
             "#7201a8"
            ],
            [
             0.3333333333333333,
             "#9c179e"
            ],
            [
             0.4444444444444444,
             "#bd3786"
            ],
            [
             0.5555555555555556,
             "#d8576b"
            ],
            [
             0.6666666666666666,
             "#ed7953"
            ],
            [
             0.7777777777777778,
             "#fb9f3a"
            ],
            [
             0.8888888888888888,
             "#fdca26"
            ],
            [
             1,
             "#f0f921"
            ]
           ]
          },
          "colorway": [
           "#636efa",
           "#EF553B",
           "#00cc96",
           "#ab63fa",
           "#FFA15A",
           "#19d3f3",
           "#FF6692",
           "#B6E880",
           "#FF97FF",
           "#FECB52"
          ],
          "font": {
           "color": "#2a3f5f"
          },
          "geo": {
           "bgcolor": "white",
           "lakecolor": "white",
           "landcolor": "#E5ECF6",
           "showlakes": true,
           "showland": true,
           "subunitcolor": "white"
          },
          "hoverlabel": {
           "align": "left"
          },
          "hovermode": "closest",
          "mapbox": {
           "style": "light"
          },
          "paper_bgcolor": "white",
          "plot_bgcolor": "#E5ECF6",
          "polar": {
           "angularaxis": {
            "gridcolor": "white",
            "linecolor": "white",
            "ticks": ""
           },
           "bgcolor": "#E5ECF6",
           "radialaxis": {
            "gridcolor": "white",
            "linecolor": "white",
            "ticks": ""
           }
          },
          "scene": {
           "xaxis": {
            "backgroundcolor": "#E5ECF6",
            "gridcolor": "white",
            "gridwidth": 2,
            "linecolor": "white",
            "showbackground": true,
            "ticks": "",
            "zerolinecolor": "white"
           },
           "yaxis": {
            "backgroundcolor": "#E5ECF6",
            "gridcolor": "white",
            "gridwidth": 2,
            "linecolor": "white",
            "showbackground": true,
            "ticks": "",
            "zerolinecolor": "white"
           },
           "zaxis": {
            "backgroundcolor": "#E5ECF6",
            "gridcolor": "white",
            "gridwidth": 2,
            "linecolor": "white",
            "showbackground": true,
            "ticks": "",
            "zerolinecolor": "white"
           }
          },
          "shapedefaults": {
           "line": {
            "color": "#2a3f5f"
           }
          },
          "ternary": {
           "aaxis": {
            "gridcolor": "white",
            "linecolor": "white",
            "ticks": ""
           },
           "baxis": {
            "gridcolor": "white",
            "linecolor": "white",
            "ticks": ""
           },
           "bgcolor": "#E5ECF6",
           "caxis": {
            "gridcolor": "white",
            "linecolor": "white",
            "ticks": ""
           }
          },
          "title": {
           "x": 0.05
          },
          "xaxis": {
           "automargin": true,
           "gridcolor": "white",
           "linecolor": "white",
           "ticks": "",
           "zerolinecolor": "white",
           "zerolinewidth": 2
          },
          "yaxis": {
           "automargin": true,
           "gridcolor": "white",
           "linecolor": "white",
           "ticks": "",
           "zerolinecolor": "white",
           "zerolinewidth": 2
          }
         }
        },
        "title": {
         "text": "Nº de Entrada de Requerimentos"
        },
        "xaxis": {
         "rangeselector": {
          "buttons": [
           {
            "count": 1,
            "label": "1m",
            "step": "month",
            "stepmode": "backward"
           },
           {
            "count": 6,
            "label": "6m",
            "step": "month",
            "stepmode": "backward"
           },
           {
            "label": "Tudo",
            "step": "all"
           }
          ]
         },
         "rangeslider": {
          "visible": true
         },
         "type": "date"
        }
       }
      },
      "text/html": [
       "<div>\n",
       "        \n",
       "        \n",
       "            <div id=\"77be0bd8-32a0-4d85-b136-759e2c883007\" class=\"plotly-graph-div\" style=\"height:525px; width:100%;\"></div>\n",
       "            <script type=\"text/javascript\">\n",
       "                require([\"plotly\"], function(Plotly) {\n",
       "                    window.PLOTLYENV=window.PLOTLYENV || {};\n",
       "                    \n",
       "                if (document.getElementById(\"77be0bd8-32a0-4d85-b136-759e2c883007\")) {\n",
       "                    Plotly.newPlot(\n",
       "                        '77be0bd8-32a0-4d85-b136-759e2c883007',\n",
       "                        [{\"marker\": {\"color\": \"#37536D\"}, \"name\": \"Residual\", \"type\": \"bar\", \"x\": [\"2017-11\", \"2017-12\", \"2018-1\", \"2018-2\", \"2018-3\", \"2018-4\", \"2018-5\", \"2018-6\", \"2018-7\", \"2018-8\", \"2018-9\", \"2018-10\", \"2018-11\", \"2018-12\", \"2019-1\", \"2019-2\", \"2019-3\", \"2019-4\", \"2019-5\", \"2019-6\", \"2019-7\", \"2019-8\", \"2019-9\", \"2019-10\", \"2019-11\"], \"y\": [1, 0, 66, 103, 192, 135, 362, 594, 636, 966, 831, 1375, 1537, 1084, 1217, 1663, 1640, 2058, 1607, 1062, 1272, 1633, 2067, 2827, 1033]}, {\"marker\": {\"color\": \"#ea4141\"}, \"name\": \"N\\u00e3o Concedidos\", \"type\": \"bar\", \"x\": [\"2017-11\", \"2017-12\", \"2018-1\", \"2018-2\", \"2018-3\", \"2018-4\", \"2018-5\", \"2018-6\", \"2018-7\", \"2018-8\", \"2018-9\", \"2018-10\", \"2018-11\", \"2018-12\", \"2019-1\", \"2019-2\", \"2019-3\", \"2019-4\", \"2019-5\", \"2019-6\", \"2019-7\", \"2019-8\", \"2019-9\", \"2019-10\", \"2019-11\"], \"y\": [0, 0, 6, 22, 22, 21, 58, 133, 58, 202, 164, 238, 290, 207, 180, 257, 359, 362, 236, 314, 437, 416, 418, 810, 340]}, {\"marker\": {\"color\": \"#16cc77\"}, \"name\": \"Concedidos\", \"type\": \"bar\", \"x\": [\"2017-11\", \"2017-12\", \"2018-1\", \"2018-2\", \"2018-3\", \"2018-4\", \"2018-5\", \"2018-6\", \"2018-7\", \"2018-8\", \"2018-9\", \"2018-10\", \"2018-11\", \"2018-12\", \"2019-1\", \"2019-2\", \"2019-3\", \"2019-4\", \"2019-5\", \"2019-6\", \"2019-7\", \"2019-8\", \"2019-9\", \"2019-10\", \"2019-11\"], \"y\": [0, 0, 8, 9, 26, 10, 45, 79, 195, 155, 116, 195, 244, 190, 201, 262, 184, 265, 331, 101, 19, 135, 335, 205, 32]}],\n",
       "                        {\"barmode\": \"stack\", \"template\": {\"data\": {\"bar\": [{\"error_x\": {\"color\": \"#2a3f5f\"}, \"error_y\": {\"color\": \"#2a3f5f\"}, \"marker\": {\"line\": {\"color\": \"#E5ECF6\", \"width\": 0.5}}, \"type\": \"bar\"}], \"barpolar\": [{\"marker\": {\"line\": {\"color\": \"#E5ECF6\", \"width\": 0.5}}, \"type\": \"barpolar\"}], \"carpet\": [{\"aaxis\": {\"endlinecolor\": \"#2a3f5f\", \"gridcolor\": \"white\", \"linecolor\": \"white\", \"minorgridcolor\": \"white\", \"startlinecolor\": \"#2a3f5f\"}, \"baxis\": {\"endlinecolor\": \"#2a3f5f\", \"gridcolor\": \"white\", \"linecolor\": \"white\", \"minorgridcolor\": \"white\", \"startlinecolor\": \"#2a3f5f\"}, \"type\": \"carpet\"}], \"choropleth\": [{\"colorbar\": {\"outlinewidth\": 0, \"ticks\": \"\"}, \"type\": \"choropleth\"}], \"contour\": [{\"colorbar\": {\"outlinewidth\": 0, \"ticks\": \"\"}, \"colorscale\": [[0.0, \"#0d0887\"], [0.1111111111111111, \"#46039f\"], [0.2222222222222222, \"#7201a8\"], [0.3333333333333333, \"#9c179e\"], [0.4444444444444444, \"#bd3786\"], [0.5555555555555556, \"#d8576b\"], [0.6666666666666666, \"#ed7953\"], [0.7777777777777778, \"#fb9f3a\"], [0.8888888888888888, \"#fdca26\"], [1.0, \"#f0f921\"]], \"type\": \"contour\"}], \"contourcarpet\": [{\"colorbar\": {\"outlinewidth\": 0, \"ticks\": \"\"}, \"type\": \"contourcarpet\"}], \"heatmap\": [{\"colorbar\": {\"outlinewidth\": 0, \"ticks\": \"\"}, \"colorscale\": [[0.0, \"#0d0887\"], [0.1111111111111111, \"#46039f\"], [0.2222222222222222, \"#7201a8\"], [0.3333333333333333, \"#9c179e\"], [0.4444444444444444, \"#bd3786\"], [0.5555555555555556, \"#d8576b\"], [0.6666666666666666, \"#ed7953\"], [0.7777777777777778, \"#fb9f3a\"], [0.8888888888888888, \"#fdca26\"], [1.0, \"#f0f921\"]], \"type\": \"heatmap\"}], \"heatmapgl\": [{\"colorbar\": {\"outlinewidth\": 0, \"ticks\": \"\"}, \"colorscale\": [[0.0, \"#0d0887\"], [0.1111111111111111, \"#46039f\"], [0.2222222222222222, \"#7201a8\"], [0.3333333333333333, \"#9c179e\"], [0.4444444444444444, \"#bd3786\"], [0.5555555555555556, \"#d8576b\"], [0.6666666666666666, \"#ed7953\"], [0.7777777777777778, \"#fb9f3a\"], [0.8888888888888888, \"#fdca26\"], [1.0, \"#f0f921\"]], \"type\": \"heatmapgl\"}], \"histogram\": [{\"marker\": {\"colorbar\": {\"outlinewidth\": 0, \"ticks\": \"\"}}, \"type\": \"histogram\"}], \"histogram2d\": [{\"colorbar\": {\"outlinewidth\": 0, \"ticks\": \"\"}, \"colorscale\": [[0.0, \"#0d0887\"], [0.1111111111111111, \"#46039f\"], [0.2222222222222222, \"#7201a8\"], [0.3333333333333333, \"#9c179e\"], [0.4444444444444444, \"#bd3786\"], [0.5555555555555556, \"#d8576b\"], [0.6666666666666666, \"#ed7953\"], [0.7777777777777778, \"#fb9f3a\"], [0.8888888888888888, \"#fdca26\"], [1.0, \"#f0f921\"]], \"type\": \"histogram2d\"}], \"histogram2dcontour\": [{\"colorbar\": {\"outlinewidth\": 0, \"ticks\": \"\"}, \"colorscale\": [[0.0, \"#0d0887\"], [0.1111111111111111, \"#46039f\"], [0.2222222222222222, \"#7201a8\"], [0.3333333333333333, \"#9c179e\"], [0.4444444444444444, \"#bd3786\"], [0.5555555555555556, \"#d8576b\"], [0.6666666666666666, \"#ed7953\"], [0.7777777777777778, \"#fb9f3a\"], [0.8888888888888888, \"#fdca26\"], [1.0, \"#f0f921\"]], \"type\": \"histogram2dcontour\"}], \"mesh3d\": [{\"colorbar\": {\"outlinewidth\": 0, \"ticks\": \"\"}, \"type\": \"mesh3d\"}], \"parcoords\": [{\"line\": {\"colorbar\": {\"outlinewidth\": 0, \"ticks\": \"\"}}, \"type\": \"parcoords\"}], \"scatter\": [{\"marker\": {\"colorbar\": {\"outlinewidth\": 0, \"ticks\": \"\"}}, \"type\": \"scatter\"}], \"scatter3d\": [{\"line\": {\"colorbar\": {\"outlinewidth\": 0, \"ticks\": \"\"}}, \"marker\": {\"colorbar\": {\"outlinewidth\": 0, \"ticks\": \"\"}}, \"type\": \"scatter3d\"}], \"scattercarpet\": [{\"marker\": {\"colorbar\": {\"outlinewidth\": 0, \"ticks\": \"\"}}, \"type\": \"scattercarpet\"}], \"scattergeo\": [{\"marker\": {\"colorbar\": {\"outlinewidth\": 0, \"ticks\": \"\"}}, \"type\": \"scattergeo\"}], \"scattergl\": [{\"marker\": {\"colorbar\": {\"outlinewidth\": 0, \"ticks\": \"\"}}, \"type\": \"scattergl\"}], \"scattermapbox\": [{\"marker\": {\"colorbar\": {\"outlinewidth\": 0, \"ticks\": \"\"}}, \"type\": \"scattermapbox\"}], \"scatterpolar\": [{\"marker\": {\"colorbar\": {\"outlinewidth\": 0, \"ticks\": \"\"}}, \"type\": \"scatterpolar\"}], \"scatterpolargl\": [{\"marker\": {\"colorbar\": {\"outlinewidth\": 0, \"ticks\": \"\"}}, \"type\": \"scatterpolargl\"}], \"scatterternary\": [{\"marker\": {\"colorbar\": {\"outlinewidth\": 0, \"ticks\": \"\"}}, \"type\": \"scatterternary\"}], \"surface\": [{\"colorbar\": {\"outlinewidth\": 0, \"ticks\": \"\"}, \"colorscale\": [[0.0, \"#0d0887\"], [0.1111111111111111, \"#46039f\"], [0.2222222222222222, \"#7201a8\"], [0.3333333333333333, \"#9c179e\"], [0.4444444444444444, \"#bd3786\"], [0.5555555555555556, \"#d8576b\"], [0.6666666666666666, \"#ed7953\"], [0.7777777777777778, \"#fb9f3a\"], [0.8888888888888888, \"#fdca26\"], [1.0, \"#f0f921\"]], \"type\": \"surface\"}], \"table\": [{\"cells\": {\"fill\": {\"color\": \"#EBF0F8\"}, \"line\": {\"color\": \"white\"}}, \"header\": {\"fill\": {\"color\": \"#C8D4E3\"}, \"line\": {\"color\": \"white\"}}, \"type\": \"table\"}]}, \"layout\": {\"annotationdefaults\": {\"arrowcolor\": \"#2a3f5f\", \"arrowhead\": 0, \"arrowwidth\": 1}, \"colorscale\": {\"diverging\": [[0, \"#8e0152\"], [0.1, \"#c51b7d\"], [0.2, \"#de77ae\"], [0.3, \"#f1b6da\"], [0.4, \"#fde0ef\"], [0.5, \"#f7f7f7\"], [0.6, \"#e6f5d0\"], [0.7, \"#b8e186\"], [0.8, \"#7fbc41\"], [0.9, \"#4d9221\"], [1, \"#276419\"]], \"sequential\": [[0.0, \"#0d0887\"], [0.1111111111111111, \"#46039f\"], [0.2222222222222222, \"#7201a8\"], [0.3333333333333333, \"#9c179e\"], [0.4444444444444444, \"#bd3786\"], [0.5555555555555556, \"#d8576b\"], [0.6666666666666666, \"#ed7953\"], [0.7777777777777778, \"#fb9f3a\"], [0.8888888888888888, \"#fdca26\"], [1.0, \"#f0f921\"]], \"sequentialminus\": [[0.0, \"#0d0887\"], [0.1111111111111111, \"#46039f\"], [0.2222222222222222, \"#7201a8\"], [0.3333333333333333, \"#9c179e\"], [0.4444444444444444, \"#bd3786\"], [0.5555555555555556, \"#d8576b\"], [0.6666666666666666, \"#ed7953\"], [0.7777777777777778, \"#fb9f3a\"], [0.8888888888888888, \"#fdca26\"], [1.0, \"#f0f921\"]]}, \"colorway\": [\"#636efa\", \"#EF553B\", \"#00cc96\", \"#ab63fa\", \"#FFA15A\", \"#19d3f3\", \"#FF6692\", \"#B6E880\", \"#FF97FF\", \"#FECB52\"], \"font\": {\"color\": \"#2a3f5f\"}, \"geo\": {\"bgcolor\": \"white\", \"lakecolor\": \"white\", \"landcolor\": \"#E5ECF6\", \"showlakes\": true, \"showland\": true, \"subunitcolor\": \"white\"}, \"hoverlabel\": {\"align\": \"left\"}, \"hovermode\": \"closest\", \"mapbox\": {\"style\": \"light\"}, \"paper_bgcolor\": \"white\", \"plot_bgcolor\": \"#E5ECF6\", \"polar\": {\"angularaxis\": {\"gridcolor\": \"white\", \"linecolor\": \"white\", \"ticks\": \"\"}, \"bgcolor\": \"#E5ECF6\", \"radialaxis\": {\"gridcolor\": \"white\", \"linecolor\": \"white\", \"ticks\": \"\"}}, \"scene\": {\"xaxis\": {\"backgroundcolor\": \"#E5ECF6\", \"gridcolor\": \"white\", \"gridwidth\": 2, \"linecolor\": \"white\", \"showbackground\": true, \"ticks\": \"\", \"zerolinecolor\": \"white\"}, \"yaxis\": {\"backgroundcolor\": \"#E5ECF6\", \"gridcolor\": \"white\", \"gridwidth\": 2, \"linecolor\": \"white\", \"showbackground\": true, \"ticks\": \"\", \"zerolinecolor\": \"white\"}, \"zaxis\": {\"backgroundcolor\": \"#E5ECF6\", \"gridcolor\": \"white\", \"gridwidth\": 2, \"linecolor\": \"white\", \"showbackground\": true, \"ticks\": \"\", \"zerolinecolor\": \"white\"}}, \"shapedefaults\": {\"line\": {\"color\": \"#2a3f5f\"}}, \"ternary\": {\"aaxis\": {\"gridcolor\": \"white\", \"linecolor\": \"white\", \"ticks\": \"\"}, \"baxis\": {\"gridcolor\": \"white\", \"linecolor\": \"white\", \"ticks\": \"\"}, \"bgcolor\": \"#E5ECF6\", \"caxis\": {\"gridcolor\": \"white\", \"linecolor\": \"white\", \"ticks\": \"\"}}, \"title\": {\"x\": 0.05}, \"xaxis\": {\"automargin\": true, \"gridcolor\": \"white\", \"linecolor\": \"white\", \"ticks\": \"\", \"zerolinecolor\": \"white\", \"zerolinewidth\": 2}, \"yaxis\": {\"automargin\": true, \"gridcolor\": \"white\", \"linecolor\": \"white\", \"ticks\": \"\", \"zerolinecolor\": \"white\", \"zerolinewidth\": 2}}}, \"title\": {\"text\": \"N\\u00ba de Entrada de Requerimentos\"}, \"xaxis\": {\"rangeselector\": {\"buttons\": [{\"count\": 1, \"label\": \"1m\", \"step\": \"month\", \"stepmode\": \"backward\"}, {\"count\": 6, \"label\": \"6m\", \"step\": \"month\", \"stepmode\": \"backward\"}, {\"label\": \"Tudo\", \"step\": \"all\"}]}, \"rangeslider\": {\"visible\": true}, \"type\": \"date\"}},\n",
       "                        {\"responsive\": true}\n",
       "                    ).then(function(){\n",
       "                            \n",
       "var gd = document.getElementById('77be0bd8-32a0-4d85-b136-759e2c883007');\n",
       "var x = new MutationObserver(function (mutations, observer) {{\n",
       "        var display = window.getComputedStyle(gd).display;\n",
       "        if (!display || display === 'none') {{\n",
       "            console.log([gd, 'removed!']);\n",
       "            Plotly.purge(gd);\n",
       "            observer.disconnect();\n",
       "        }}\n",
       "}});\n",
       "\n",
       "// Listen for the removal of the full notebook cells\n",
       "var notebookContainer = gd.closest('#notebook-container');\n",
       "if (notebookContainer) {{\n",
       "    x.observe(notebookContainer, {childList: true});\n",
       "}}\n",
       "\n",
       "// Listen for the clearing of the current output cell\n",
       "var outputEl = gd.closest('.output');\n",
       "if (outputEl) {{\n",
       "    x.observe(outputEl, {childList: true});\n",
       "}}\n",
       "\n",
       "                        })\n",
       "                };\n",
       "                });\n",
       "            </script>\n",
       "        </div>"
      ]
     },
     "metadata": {},
     "output_type": "display_data"
    }
   ],
   "source": [
    "import plotly\n",
    "import chart_studio.plotly as py\n",
    "import plotly.graph_objs as go\n",
    "from plotly.offline import download_plotlyjs, init_notebook_mode, plot, iplot\n",
    "\n",
    "plotly.offline.init_notebook_mode(connected=True)\n",
    "\n",
    "data = [go.Bar(x=residual['x'], y=residual['y'], name=\"Residual\", marker=dict(color='#37536D')),\n",
    "       go.Bar(x=nao_concedidos['x'], y=nao_concedidos['y'], name=\"Não Concedidos\", marker=dict(color='#ea4141')),\n",
    "       go.Bar(x=concedidos['x'], y=concedidos['y'], name=\"Concedidos\", marker=dict(color='#16cc77'))]\n",
    "\n",
    "layout = dict(\n",
    "    title='Nº de Entrada de Requerimentos',\n",
    "    xaxis=dict(\n",
    "        rangeselector=dict(\n",
    "            buttons=list([\n",
    "                dict(count=1,\n",
    "                     label='1m',\n",
    "                     step='month',\n",
    "                     stepmode='backward'),\n",
    "                dict(count=6,\n",
    "                     label='6m',\n",
    "                     step='month',\n",
    "                     stepmode='backward'),\n",
    "                dict(step='all',\n",
    "                     label='Tudo',)\n",
    "            ])\n",
    "        ),\n",
    "        rangeslider=dict(\n",
    "            visible = True\n",
    "        ),\n",
    "        type='date',\n",
    "        \n",
    "    ),\n",
    "    barmode='stack'\n",
    ")\n",
    "\n",
    "fig = dict(data=data, layout=layout)\n",
    "\n",
    "plotly.offline.iplot(fig)"
   ]
  },
  {
   "cell_type": "code",
   "execution_count": null,
   "metadata": {
    "collapsed": true
   },
   "outputs": [],
   "source": []
  }
 ],
 "metadata": {
  "kernelspec": {
   "display_name": "Python 3",
   "language": "python",
   "name": "python3"
  },
  "language_info": {
   "codemirror_mode": {
    "name": "ipython",
    "version": 3
   },
   "file_extension": ".py",
   "mimetype": "text/x-python",
   "name": "python",
   "nbconvert_exporter": "python",
   "pygments_lexer": "ipython3",
   "version": "3.7.4"
  }
 },
 "nbformat": 4,
 "nbformat_minor": 2
}
