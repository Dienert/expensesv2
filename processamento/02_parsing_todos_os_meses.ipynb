{
 "cells": [
  {
   "cell_type": "markdown",
   "metadata": {},
   "source": [
    "## Captura e Visualização de dados"
   ]
  },
  {
   "cell_type": "markdown",
   "metadata": {},
   "source": [
    "<b>Professor:</b> Diénert Vieira\n",
    "<b>Telefone:</b> (83) 9 8182-1479\n",
    "<b>Email:</b> dienertalencar@gmail.com"
   ]
  },
  {
   "cell_type": "markdown",
   "metadata": {},
   "source": [
    "### Segunda avaliação de aprendizagem"
   ]
  },
  {
   "cell_type": "markdown",
   "metadata": {},
   "source": [
    "Agora que você aprendeu a fazer o parsing de um único arquivo, desenvolva um mecanismo que permita realizar o parsing de todos os meses do ano de 2019. Dessa forma você poderá analisar uma maior volume de dados e reaproveitar o código que já foi desenvovido nas tarefas anteriores."
   ]
  },
  {
   "cell_type": "markdown",
   "metadata": {},
   "source": [
    "### Tarefa 02\n",
    "#### Aproveite o que já fez e faça o parsing de todos os meses de 2019"
   ]
  },
  {
   "cell_type": "markdown",
   "metadata": {},
   "source": [
    "Importar a biblioteca do framework scrapy"
   ]
  },
  {
   "cell_type": "code",
   "execution_count": null,
   "metadata": {},
   "outputs": [],
   "source": [
    "import scrapy"
   ]
  },
  {
   "cell_type": "markdown",
   "metadata": {},
   "source": [
    "Copiar o método extrair_transacao do exercício anterior"
   ]
  },
  {
   "cell_type": "code",
   "execution_count": null,
   "metadata": {},
   "outputs": [],
   "source": [
    "def extrair_transacao(transacao_selector, referencia):\n",
    "    data = None\n",
    "    descricao = None\n",
    "    taxa = None\n",
    "    valor = None\n",
    "    return {'date': data[0:4]+'-'+data[4:6]+'-'+data[6:8],\n",
    "            'descricao': descricao,\n",
    "            'valor': valor if taxa is None else round(float(valor)*float(taxa), ndigits=2),\n",
    "            'referencia': referencia}"
   ]
  },
  {
   "cell_type": "markdown",
   "metadata": {},
   "source": [
    "Copiar o processamento anterior à chamada do extrair_transacao e colocar no método parse_xml para ser chamado para cada arquivo do diretório de extratos do cartão ou da conta corrente"
   ]
  },
  {
   "cell_type": "code",
   "execution_count": null,
   "metadata": {},
   "outputs": [],
   "source": [
    "def parse_xml(path):\n",
    "    ofx = None\n",
    "    text = None\n",
    "    text = None\n",
    "    selector = None\n",
    "    transacoes = None\n",
    "    referencia = None\n",
    "    referencia = referencia[0:4]+'-'+referencia[4:6]+'-'+referencia[6:8] if referencia else None\n",
    "    return [extrair_transacao(transacao, referencia) for transacao in transacoes]"
   ]
  },
  {
   "cell_type": "code",
   "execution_count": null,
   "metadata": {},
   "outputs": [],
   "source": [
    "lista = []"
   ]
  },
  {
   "cell_type": "code",
   "execution_count": null,
   "metadata": {
    "scrolled": false
   },
   "outputs": [],
   "source": [
    "pathCartao = '../dados/cartao/'\n",
    "pathConta = '../dados/conta/'"
   ]
  },
  {
   "cell_type": "code",
   "execution_count": null,
   "metadata": {},
   "outputs": [],
   "source": [
    "import os"
   ]
  },
  {
   "cell_type": "code",
   "execution_count": null,
   "metadata": {},
   "outputs": [],
   "source": [
    "filesCartao = [file for file in os.listdir(pathCartao) if '19' in file or '20' in file]\n",
    "filesCartao.sort()\n",
    "filesCartao"
   ]
  },
  {
   "cell_type": "code",
   "execution_count": null,
   "metadata": {},
   "outputs": [],
   "source": [
    "for file in filesCartao:\n",
    "    lista.extend(parse_xml(pathCartao+file))"
   ]
  },
  {
   "cell_type": "code",
   "execution_count": null,
   "metadata": {},
   "outputs": [],
   "source": [
    "lista"
   ]
  },
  {
   "cell_type": "code",
   "execution_count": null,
   "metadata": {},
   "outputs": [],
   "source": [
    "filesConta = [file for file in os.listdir(pathConta) if 'conta' in file]\n",
    "filesConta"
   ]
  },
  {
   "cell_type": "code",
   "execution_count": null,
   "metadata": {},
   "outputs": [],
   "source": [
    "for file in filesConta:\n",
    "    lista.extend(parse_xml(pathConta+file))"
   ]
  },
  {
   "cell_type": "code",
   "execution_count": null,
   "metadata": {},
   "outputs": [],
   "source": [
    "lista"
   ]
  },
  {
   "cell_type": "code",
   "execution_count": null,
   "metadata": {},
   "outputs": [],
   "source": [
    "import json\n",
    "with open('../dados/tudo.json', 'w') as fout:\n",
    "    json.dump(lista , fout, indent=4)"
   ]
  },
  {
   "cell_type": "markdown",
   "metadata": {},
   "source": [
    "## Tarefa 02 Concluída"
   ]
  }
 ],
 "metadata": {
  "kernelspec": {
   "display_name": "Python 3",
   "language": "python",
   "name": "python3"
  },
  "language_info": {
   "codemirror_mode": {
    "name": "ipython",
    "version": 3
   },
   "file_extension": ".py",
   "mimetype": "text/x-python",
   "name": "python",
   "nbconvert_exporter": "python",
   "pygments_lexer": "ipython3",
   "version": "3.7.4"
  }
 },
 "nbformat": 4,
 "nbformat_minor": 2
}
