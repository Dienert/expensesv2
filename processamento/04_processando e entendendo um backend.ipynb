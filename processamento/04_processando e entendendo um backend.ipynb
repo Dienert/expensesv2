{
 "cells": [
  {
   "cell_type": "markdown",
   "metadata": {},
   "source": [
    "## Captura e Visualização de dados"
   ]
  },
  {
   "cell_type": "markdown",
   "metadata": {},
   "source": [
    "<b>Professor:</b> Diénert Vieira\n",
    "<b>Telefone:</b> (83) 9 8182-1479\n",
    "<b>Email:</b> dienertalencar@gmail.com"
   ]
  },
  {
   "cell_type": "markdown",
   "metadata": {},
   "source": [
    "### Segunda avaliação de aprendizagem"
   ]
  },
  {
   "cell_type": "markdown",
   "metadata": {},
   "source": [
    "Depois de extrairmos os dados bancários, passamos para a sua análise. Podemos detectar padrões de comportcamentos e gerar visualizações que nos auxiliem na tomada de decisões."
   ]
  },
  {
   "cell_type": "markdown",
   "metadata": {},
   "source": [
    "### Tarefa 04\n",
    "#### Processar dados para exibir num frontend"
   ]
  },
  {
   "cell_type": "markdown",
   "metadata": {},
   "source": [
    "Primeiro importamos a biblioteca de manipulação de dados: Pandas. E usamos um alias (apelido): pd, por brevidade:"
   ]
  },
  {
   "cell_type": "code",
   "execution_count": null,
   "metadata": {},
   "outputs": [],
   "source": [
    "import pandas as pd"
   ]
  },
  {
   "cell_type": "markdown",
   "metadata": {},
   "source": [
    "Depois podemos listar os arquivos do diretório:"
   ]
  },
  {
   "cell_type": "code",
   "execution_count": null,
   "metadata": {},
   "outputs": [],
   "source": [
    "df = pd.read_json(\"../dados/tudo.json\")\n",
    "dateformat = '%Y/%m/%d'\n",
    "\n",
    "df['date'] = pd.to_datetime(df['date'], format=dateformat)\n",
    "df['referencia'] = pd.to_datetime(df['referencia'], format=dateformat)\n",
    "df.index = df.date\n",
    "#df = df.drop(columns='date')\n",
    "#df = df.sort_index()\n",
    "df"
   ]
  },
  {
   "cell_type": "code",
   "execution_count": null,
   "metadata": {},
   "outputs": [],
   "source": [
    "def filtra_e_soma(df, descricao):\n",
    "    filtrado = df[df.descricao.str.lower().str.count(descricao) > 0]\n",
    "    print('Soma: ', filtrado.valor.sum())\n",
    "    return filtrado.copy()"
   ]
  },
  {
   "cell_type": "code",
   "execution_count": null,
   "metadata": {},
   "outputs": [],
   "source": [
    "def salva_serie(filtrado, inverte=True):\n",
    "    filtrado_por_data = filtrado.groupby([filtrado.index.date]).valor.sum() * (-1 if inverte else 1) \n",
    "    filtrado_por_data = filtrado_por_data.to_frame()\n",
    "    filtrado_por_data['day'] = filtrado_por_data.index\n",
    "    filtrado_por_data.columns = ['count', 'day']\n",
    "    filtrado_por_data = filtrado_por_data.reset_index()\n",
    "    filtrado_por_data = filtrado_por_data[['day', 'count']]\n",
    "    filtrado_por_data.to_csv('../frontends/calendario_horizontal/dates.csv', index=False)\n",
    "    return filtrado_por_data"
   ]
  },
  {
   "cell_type": "code",
   "execution_count": null,
   "metadata": {},
   "outputs": [],
   "source": [
    "def filtra_e_salva(df, descricao):\n",
    "    filtrado = filtra_e_soma(df, descricao)\n",
    "    return salva_serie(filtrado)"
   ]
  },
  {
   "cell_type": "code",
   "execution_count": null,
   "metadata": {},
   "outputs": [],
   "source": [
    "filtra_e_salva(df, 'ifood')"
   ]
  },
  {
   "cell_type": "code",
   "execution_count": null,
   "metadata": {},
   "outputs": [],
   "source": [
    "filtra_e_salva(df, '^posto ')"
   ]
  },
  {
   "cell_type": "code",
   "execution_count": null,
   "metadata": {},
   "outputs": [],
   "source": [
    "filtra_e_salva(df, 'spotify')"
   ]
  },
  {
   "cell_type": "markdown",
   "metadata": {},
   "source": [
    "Agora vá para o diretório de frontends, pela linha de comando, entre no diretório \"calendario_horizontal\" e execute o comando: python -m http.server 80"
   ]
  },
  {
   "cell_type": "markdown",
   "metadata": {},
   "source": [
    "Acesse no browser http://localhost/ e veja os dias em que você realizou abastecimentos ao longo do ano."
   ]
  },
  {
   "cell_type": "markdown",
   "metadata": {},
   "source": [
    "Repita o processo para o termo que desejar"
   ]
  },
  {
   "cell_type": "markdown",
   "metadata": {},
   "source": [
    "### Agora preparamos os dados para uma aplicação React"
   ]
  },
  {
   "cell_type": "code",
   "execution_count": null,
   "metadata": {},
   "outputs": [],
   "source": [
    "from calendar import monthrange\n",
    "from datetime import date, datetime\n",
    "\n",
    "def separa_mes(df, month, year):\n",
    "    begin = datetime(year, month, 1)\n",
    "    end = datetime(year, month, monthrange(year, month)[1])\n",
    "    return df[df.date.ge(begin) & df.date.le(end)].copy()"
   ]
  },
  {
   "cell_type": "code",
   "execution_count": null,
   "metadata": {},
   "outputs": [],
   "source": [
    "import json"
   ]
  },
  {
   "cell_type": "code",
   "execution_count": null,
   "metadata": {},
   "outputs": [],
   "source": [
    "max_date = mes.date.max()\n",
    "month = max_date.month\n",
    "year = max_date.year"
   ]
  },
  {
   "cell_type": "code",
   "execution_count": null,
   "metadata": {},
   "outputs": [],
   "source": [
    "month = 12"
   ]
  },
  {
   "cell_type": "code",
   "execution_count": null,
   "metadata": {},
   "outputs": [],
   "source": [
    "year = 2019"
   ]
  },
  {
   "cell_type": "code",
   "execution_count": null,
   "metadata": {
    "scrolled": true
   },
   "outputs": [],
   "source": [
    "df"
   ]
  },
  {
   "cell_type": "code",
   "execution_count": null,
   "metadata": {},
   "outputs": [],
   "source": [
    "mes = separa_mes(df, month, year)\n",
    "mes = mes[['date', 'descricao', 'valor']]\n",
    "mes.columns = ['Trans Date', 'Description', 'Amount']\n",
    "mes['Trans Date'] = mes['Trans Date'].astype(str)\n",
    "text = json.dumps(mes.to_dict(orient='records'), indent=4, ensure_ascii=True)\n",
    "file = open('../frontends/expensesv2/src/data/expenses.json', 'w')\n",
    "file.write(text)"
   ]
  },
  {
   "cell_type": "code",
   "execution_count": null,
   "metadata": {},
   "outputs": [],
   "source": [
    "print(text)"
   ]
  },
  {
   "cell_type": "markdown",
   "metadata": {},
   "source": [
    "* Instale o Node.js: https://nodejs.org/en/ (LTS)\n",
    "* Entre no diretório frontedns/expensesv2 pela linha de comando\n",
    "* Execute o comando: npm install\n",
    "* Ao terminar o anterior, execute: npm start\n",
    "* O comando anterior deve abrir o browser automaticamente em http://localhost:3000/"
   ]
  },
  {
   "cell_type": "markdown",
   "metadata": {},
   "source": [
    "<img align='center' src='imagens/congrats.png'>"
   ]
  },
  {
   "cell_type": "code",
   "execution_count": null,
   "metadata": {},
   "outputs": [],
   "source": []
  }
 ],
 "metadata": {
  "kernelspec": {
   "display_name": "Python 3",
   "language": "python",
   "name": "python3"
  },
  "language_info": {
   "codemirror_mode": {
    "name": "ipython",
    "version": 3
   },
   "file_extension": ".py",
   "mimetype": "text/x-python",
   "name": "python",
   "nbconvert_exporter": "python",
   "pygments_lexer": "ipython3",
   "version": "3.7.4"
  }
 },
 "nbformat": 4,
 "nbformat_minor": 2
}
