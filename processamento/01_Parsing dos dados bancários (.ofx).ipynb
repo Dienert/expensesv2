{
 "cells": [
  {
   "cell_type": "markdown",
   "metadata": {},
   "source": [
    "## Captura e Visualização de dados"
   ]
  },
  {
   "cell_type": "markdown",
   "metadata": {},
   "source": [
    "<b>Professor:</b> Diénert Vieira\n",
    "<b>Telefone:</b> (83) 9 8182-1479\n",
    "<b>Email:</b> dienertalencar@gmail.com"
   ]
  },
  {
   "cell_type": "markdown",
   "metadata": {},
   "source": [
    "### Segunda avaliação de aprendizagem"
   ]
  },
  {
   "cell_type": "markdown",
   "metadata": {},
   "source": [
    "Para consolidar os conhecimentos adquiridos no 1º fim de semana do módulo, vamos desenvolver uma análise em cima de dados que todos temos, nossos extratos bancários ou de cartão de crédito, realizar o parsing em cima de arquivos que faremos o download (não vamos fazer a captura, mas vamos aproveitar a tecnologia que já vimos) e gerar visualizações para esses dados."
   ]
  },
  {
   "cell_type": "markdown",
   "metadata": {},
   "source": [
    "* Para completar esse notebook, substitua onde houver 'None' nos códigos com o código que você julgar mais adequado.\n",
    "* Em algumas células podem existir algumas dicas, passe o mouse sobre elas caso queira uma ajuda na solução."
   ]
  },
  {
   "cell_type": "markdown",
   "metadata": {},
   "source": [
    "### Tarefa 01\n",
    "#### Fazer o download de 1 extrato (cartão de crédito ou conta corrente) de um mês de 2019\n",
    "<img align=\"right\" src=\"imagens/exportar.png\">\n",
    "\n",
    "* Acesse a sua conta pela web (exemplo com o Banco do Brasil)\n",
    "* No menu procure por cartões > Extrato (em Fatura)\n",
    "* Escolha o cartão \n",
    "* Escolha o mês\n",
    "* Clique no ícone de exportar, no topo da página, como na figura:\n",
    "* Escolha o formato OFX\n",
    "* Crie uma pasta 'dados' e salve o arquivo nela\n",
    "\n"
   ]
  },
  {
   "cell_type": "markdown",
   "metadata": {},
   "source": [
    "### Tarefa 2: \n",
    "#### Extrair os dados desses arquivos, ou seja, fazer o parsing dos arquivos usando a tecnologia vista em sala, através do scrapy, usando <u>css selector</u>  ou <u>xpath</u>. Para isso, você precisa entender a estrutura do arquivo OFX para saber como extrair as informações. "
   ]
  },
  {
   "cell_type": "markdown",
   "metadata": {},
   "source": [
    "Primeiro, vamos abrir esse arquivo. Coloque na variável path, o caminho relativo para o mês que você extraiu:"
   ]
  },
  {
   "cell_type": "code",
   "execution_count": null,
   "metadata": {},
   "outputs": [],
   "source": [
    "path = None"
   ]
  },
  {
   "cell_type": "markdown",
   "metadata": {},
   "source": [
    "Exemplo:\n",
    "\n",
    "```python\n",
    "path = '../dados/cartao/OUROCARD_VISA_INTERNATIONAL-Out_19.ofx'\n",
    "```\n"
   ]
  },
  {
   "cell_type": "markdown",
   "metadata": {},
   "source": [
    "Abra este arquivo:"
   ]
  },
  {
   "cell_type": "code",
   "execution_count": null,
   "metadata": {},
   "outputs": [],
   "source": [
    "ofx = open(path)"
   ]
  },
  {
   "cell_type": "markdown",
   "metadata": {},
   "source": [
    "Exiba a lista de todas as linhas do arquivo:"
   ]
  },
  {
   "cell_type": "code",
   "execution_count": null,
   "metadata": {
    "scrolled": true
   },
   "outputs": [],
   "source": [
    "ofx.readlines()"
   ]
  },
  {
   "cell_type": "markdown",
   "metadata": {},
   "source": [
    "Como podemos fazer para imprimir as linhas do arquivo sem mostrar os caracteres de quebra de linha ('\\n') como estão aparecendo em cada linha?"
   ]
  },
  {
   "cell_type": "markdown",
   "metadata": {},
   "source": [
    "<p title='Cada vez que você usa a função readlines(), o ponteiro da linha do arquivo vai para a sua última linha, por isso, abra o arquivo novamente para reiniciar o ponteiro e tente iterar (percorrer) a lista, imprimindo cada linha'>Dica 1</p>"
   ]
  },
  {
   "cell_type": "markdown",
   "metadata": {},
   "source": [
    "<p title='Você sabia que dá pra fazer isso numa única, linha? Usando List Comprehensions, sintaxe: [print(item) for item in items]'>Dica 2</p> <a href='https://blog.teamtreehouse.com/python-single-line-loops' target=\"_blank\">Link</a>"
   ]
  },
  {
   "cell_type": "markdown",
   "metadata": {},
   "source": [
    "<p title=\"Se você usar um segundo parâmetro na função print(..., end='') não haverá quebra de linha automaticamente e não aparecerão linhas em branco que originalmente não existem no arquivo\">Dica 3</p>"
   ]
  },
  {
   "cell_type": "code",
   "execution_count": 9,
   "metadata": {},
   "outputs": [],
   "source": [
    "None"
   ]
  },
  {
   "cell_type": "markdown",
   "metadata": {},
   "source": [
    "Converta todas as linhas em uma única grande string (uma única variável contendo todas as palavras) e a armazene na variável 'text'\n",
    "* Mas neste caso não pode ser uma lista\n",
    "* Com a exceção de que uma string é uma lista de caracteres"
   ]
  },
  {
   "cell_type": "markdown",
   "metadata": {},
   "source": [
    "<p title='Abra o arquivo novamente e tente usar função join'>Dica 1</p>\n",
    "<a href='https://www.geeksforgeeks.org/join-function-python/' target='_blank'>Link</a>"
   ]
  },
  {
   "cell_type": "code",
   "execution_count": null,
   "metadata": {},
   "outputs": [],
   "source": [
    "text = None"
   ]
  },
  {
   "cell_type": "code",
   "execution_count": null,
   "metadata": {},
   "outputs": [],
   "source": [
    "text"
   ]
  },
  {
   "cell_type": "code",
   "execution_count": null,
   "metadata": {
    "scrolled": true
   },
   "outputs": [],
   "source": [
    "print(text)"
   ]
  },
  {
   "cell_type": "markdown",
   "metadata": {},
   "source": [
    "Tendo a string em mãos, podemos usar o framework que já utilizamos para fazer nossas <i>queries</i> (consultas) em css selector ou xpath. Para isso, damos import na biblioteca:"
   ]
  },
  {
   "cell_type": "code",
   "execution_count": null,
   "metadata": {},
   "outputs": [],
   "source": [
    "import scrapy"
   ]
  },
  {
   "cell_type": "markdown",
   "metadata": {},
   "source": [
    "Criamos um selector com a grande string:"
   ]
  },
  {
   "cell_type": "code",
   "execution_count": null,
   "metadata": {},
   "outputs": [],
   "source": [
    "selector = scrapy.selector.Selector(text=text)"
   ]
  },
  {
   "cell_type": "code",
   "execution_count": null,
   "metadata": {},
   "outputs": [],
   "source": [
    "selector"
   ]
  },
  {
   "cell_type": "code",
   "execution_count": null,
   "metadata": {},
   "outputs": [],
   "source": [
    "uglyxml = selector.get()"
   ]
  },
  {
   "cell_type": "markdown",
   "metadata": {},
   "source": [
    "Mas vamos usar a seguinte função para imprimir o documento XML de forma hierárquica, para facilitar a nossa análise do documento."
   ]
  },
  {
   "cell_type": "code",
   "execution_count": null,
   "metadata": {
    "scrolled": true
   },
   "outputs": [],
   "source": [
    "import xml.dom.minidom\n",
    "\n",
    "def prettify(uglyxml):\n",
    "    pretty = xml.dom.minidom.parseString(uglyxml)\n",
    "    print(pretty.toprettyxml())"
   ]
  },
  {
   "cell_type": "code",
   "execution_count": null,
   "metadata": {},
   "outputs": [],
   "source": [
    "prettify(uglyxml)"
   ]
  },
  {
   "cell_type": "markdown",
   "metadata": {},
   "source": [
    "Use o seletor criado anteriormente para tentar extrair todas as transações do documento:"
   ]
  },
  {
   "cell_type": "markdown",
   "metadata": {},
   "source": [
    "<p title='Lembre-se que scraping se resume a capturar a parte de código que contém tudo que interessa e iterar sobre essas partes maiores para, a partir delas, coletar as partes mais específicas'>Dica 1</p>"
   ]
  },
  {
   "cell_type": "markdown",
   "metadata": {},
   "source": [
    "<p title='Já que o seletor retorna uma lista, acesse alguns items da lista com seu índice [1], [2] e [3] por exemplo, e use o extract() para alimentar a função prettify e mostrar o que você coletou'>Dica 2</p>"
   ]
  },
  {
   "cell_type": "code",
   "execution_count": 1,
   "metadata": {},
   "outputs": [],
   "source": [
    "None"
   ]
  },
  {
   "cell_type": "markdown",
   "metadata": {},
   "source": [
    "Procure um elemento externo às transacoes que contenha o saldo do mês anterior e a data de referência"
   ]
  },
  {
   "cell_type": "markdown",
   "metadata": {},
   "source": [
    "<p title='Tem a ver com balanço financeiro'>Dica 1</p>"
   ]
  },
  {
   "cell_type": "code",
   "execution_count": 2,
   "metadata": {},
   "outputs": [],
   "source": [
    "None"
   ]
  },
  {
   "cell_type": "markdown",
   "metadata": {},
   "source": [
    "Extraia somente a data de referência sem tags"
   ]
  },
  {
   "cell_type": "markdown",
   "metadata": {},
   "source": [
    "<p title='Em <tag>texto</tag>, usando o css selector tag::text você vai capturar somente a palavra \"texto\" que está dentro da tag '>Dica 1</p>"
   ]
  },
  {
   "cell_type": "code",
   "execution_count": 8,
   "metadata": {},
   "outputs": [],
   "source": [
    "referencia = None"
   ]
  },
  {
   "cell_type": "code",
   "execution_count": null,
   "metadata": {},
   "outputs": [],
   "source": [
    "referencia"
   ]
  },
  {
   "cell_type": "markdown",
   "metadata": {},
   "source": [
    "Armazene na variável 'referencia' a data no seguinte formato: ano-mes-dia, ex.: 2019-12-01"
   ]
  },
  {
   "cell_type": "code",
   "execution_count": null,
   "metadata": {},
   "outputs": [],
   "source": [
    "referencia = referencia[0:4]+'-'+referencia[4:6]+'-'+referencia[6:8]"
   ]
  },
  {
   "cell_type": "code",
   "execution_count": null,
   "metadata": {},
   "outputs": [],
   "source": [
    "referencia"
   ]
  },
  {
   "cell_type": "markdown",
   "metadata": {},
   "source": [
    "Complete a seguinte função, para extrair as informações específicas de cada transação, passando a data de referência que você extraiu como parâmetro:\n",
    "* O 'None' do if não deve ser alterado\n",
    "* Caso o seu extrato não possui transações em moedas estrangeiras, usar o elemento 'currate' para extrair quando houver, usando o extract_first() para não lançar uma exceção."
   ]
  },
  {
   "cell_type": "code",
   "execution_count": null,
   "metadata": {},
   "outputs": [],
   "source": [
    "def extrair_transacao(transacao_selector, referencia):\n",
    "    data = None\n",
    "    descricao = None\n",
    "    taxa = None\n",
    "    valor = None\n",
    "    return {'date': data[0:4]+'-'+data[4:6]+'-'+data[6:8],\n",
    "            'descricao': descricao,\n",
    "            'valor': valor if taxa is None else round(float(valor)*float(taxa), ndigits=2),\n",
    "            'referencia': referencia}"
   ]
  },
  {
   "cell_type": "markdown",
   "metadata": {},
   "source": [
    "Teste a funcão que você acabou de implementar, usando um seletor para um item da lista de transções:"
   ]
  },
  {
   "cell_type": "code",
   "execution_count": null,
   "metadata": {},
   "outputs": [],
   "source": [
    "None"
   ]
  },
  {
   "cell_type": "markdown",
   "metadata": {},
   "source": [
    "Exemplo de resultado esperado:\n",
    "\n",
    "```python\n",
    "{'date': '2019-09-11',\n",
    " 'descricao': 'DEBITOS NO EXTERIOR CONVERT P/ R$',\n",
    " 'valor': -9.09,\n",
    " 'referencia': '2019-10-10'}\n",
    "```\n"
   ]
  },
  {
   "cell_type": "markdown",
   "metadata": {},
   "source": [
    "Agora faça o teste para as 10 primeiras transações do seu mês de referência:"
   ]
  },
  {
   "cell_type": "code",
   "execution_count": null,
   "metadata": {},
   "outputs": [],
   "source": [
    "None"
   ]
  },
  {
   "cell_type": "markdown",
   "metadata": {},
   "source": [
    "Exemplo de resultado esperado:\n",
    "\n",
    "```python\n",
    "{'date': '2019-09-10', 'descricao': 'AJUSTE A CREDITO VAR.CAMBIAL COMPRA EXT', 'valor': '8.82', 'referencia': '2019-12-31'}\n",
    "{'date': '2019-09-11', 'descricao': 'DEBITOS PAGOS EM USS NO PERIODO', 'valor': 9.09, 'referencia': '2019-12-31'}\n",
    "{'date': '2019-09-11', 'descricao': 'DEBITOS NO EXTERIOR CONVERT P/ R$', 'valor': -9.09, 'referencia': '2019-12-31'}\n",
    "{'date': '2019-09-10', 'descricao': 'PGTO DEBITO CONTA 1617 000005071  200211', 'valor': '3167.31', 'referencia': '2019-12-31'}\n",
    "{'date': '2019-09-07', 'descricao': 'COURSRAWQ82BME1NNCQV6  6502657649    CA', 'valor': -213.15, 'referencia': '2019-12-31'}\n",
    "{'date': '2019-09-09', 'descricao': 'IOF - COMPRA NO EXTERIOR', 'valor': -13.62, 'referencia': '2019-12-31'}\n",
    "{'date': '2019-08-31', 'descricao': 'OLD PUB                Joao Pessoa   BR', 'valor': '-56.00', 'referencia': '2019-12-31'}\n",
    "{'date': '2019-09-22', 'descricao': 'CINEPOLIS MANAIRA      JOAO PESSOA   BR', 'valor': '-62.00', 'referencia': '2019-12-31'}\n",
    "{'date': '2019-08-29', 'descricao': 'THE GARAGE             Joao Pessoa   BR', 'valor': '-35.00', 'referencia': '2019-12-31'}\n",
    "{'date': '2019-08-31', 'descricao': 'OTR PUB SERVICOS DE BA JOAO PESSOA   BR', 'valor': '-16.00', 'referencia': '2019-12-31'}\n",
    "```\n"
   ]
  },
  {
   "cell_type": "markdown",
   "metadata": {},
   "source": [
    "Gere uma lista com todas as transações:"
   ]
  },
  {
   "cell_type": "code",
   "execution_count": null,
   "metadata": {},
   "outputs": [],
   "source": [
    "None"
   ]
  },
  {
   "cell_type": "code",
   "execution_count": null,
   "metadata": {},
   "outputs": [],
   "source": [
    "lista = None"
   ]
  },
  {
   "cell_type": "code",
   "execution_count": null,
   "metadata": {
    "scrolled": true
   },
   "outputs": [],
   "source": [
    "lista"
   ]
  },
  {
   "cell_type": "markdown",
   "metadata": {},
   "source": [
    "Exemplo de resultado esperado:\n",
    "\n",
    "```python\n",
    "[{'date': '2019-09-10',\n",
    "  'descricao': 'AJUSTE A CREDITO VAR.CAMBIAL COMPRA EXT',\n",
    "  'valor': '8.82',\n",
    "  'referencia': '2019-12-31'},\n",
    " {'date': '2019-09-11',\n",
    "  'descricao': 'DEBITOS PAGOS EM USS NO PERIODO',\n",
    "  'valor': 9.09,\n",
    "  'referencia': '2019-12-31'},\n",
    " {'date': '2019-09-11',\n",
    "  'descricao': 'DEBITOS NO EXTERIOR CONVERT P/ R$',\n",
    "  'valor': -9.09,\n",
    "  'referencia': '2019-12-31'},\n",
    " {'date': '2019-09-10',\n",
    "  'descricao': 'PGTO DEBITO CONTA 1617 000005071  200211',\n",
    "  'valor': '3167.31',\n",
    "  'referencia': '2019-12-31'},\n",
    " {'date': '2019-09-07',\n",
    "  'descricao': 'COURSRAWQ82BME1NNCQV6  6502657649    CA',\n",
    "  'valor': -213.15,\n",
    "  'referencia': '2019-12-31'},\n",
    " {'date': '2019-09-09',\n",
    "  'descricao': 'IOF - COMPRA NO EXTERIOR',\n",
    "  'valor': -13.62,\n",
    "  'referencia': '2019-12-31'},\n",
    " {'date': '2019-08-31',\n",
    "  'descricao': 'OLD PUB                Joao Pessoa   BR',\n",
    "  'valor': '-56.00',\n",
    "  'referencia': '2019-12-31'},\n",
    " {'date': '2019-09-22',\n",
    "  'descricao': 'CINEPOLIS MANAIRA      JOAO PESSOA   BR',\n",
    "  'valor': '-62.00',\n",
    "  'referencia': '2019-12-31'},\n",
    " {'date': '2019-08-29',\n",
    "  'descricao': 'THE GARAGE             Joao Pessoa   BR',\n",
    "  'valor': '-35.00',\n",
    "  'referencia': '2019-12-31'},\n",
    " {'date': '2019-08-31',\n",
    "  'descricao': 'OTR PUB SERVICOS DE BA JOAO PESSOA   BR',\n",
    "  'valor': '-16.00',\n",
    "  'referencia': '2019-12-31'},\n",
    " {'date': '2019-09-01',\n",
    "  'descricao': 'ACAI DA VILLA          Joao Pessoa   BR',\n",
    "  'valor': '-20.27',\n",
    "  'referencia': '2019-12-31'},\n",
    " {'date': '2019-09-11',\n",
    "  'descricao': 'GOLD STRIKE MANGABEIRA Joao Pessoa   BR',\n",
    "  'valor': '-14.00',\n",
    "  'referencia': '2019-12-31'},\n",
    " {'date': '2019-09-13',\n",
    "  'descricao': 'NAU FRUTOS DO MAR      JOAO PESSOA   BR',\n",
    "  'valor': '-110.90',\n",
    "  'referencia': '2019-12-31'},\n",
    " {'date': '2019-09-14',\n",
    "  'descricao': 'TERROA BUFFET SERVICOS JOAO PESSOA   BR',\n",
    "  'valor': '-72.00',\n",
    "  'referencia': '2019-12-31'},\n",
    " {'date': '2019-09-14',\n",
    "  'descricao': 'CHOPP TIME             JOAO PESSOA   BR',\n",
    "  'valor': '-80.00',\n",
    "  'referencia': '2019-12-31'},\n",
    " {'date': '2019-09-15',\n",
    "  'descricao': 'BISNAGAO               Joao Pessoa   BR',\n",
    "  'valor': '-21.50',\n",
    "  'referencia': '2019-12-31'},\n",
    " {'date': '2019-09-15',\n",
    "  'descricao': 'CHOPP TIME             JOAO PESSOA   BR',\n",
    "  'valor': '-91.00',\n",
    "  'referencia': '2019-12-31'},\n",
    " {'date': '2019-09-15',\n",
    "  'descricao': 'CHOPP TIME             JOAO PESSOA   BR',\n",
    "  'valor': '-12.00',\n",
    "  'referencia': '2019-12-31'},\n",
    " {'date': '2019-09-22',\n",
    "  'descricao': 'MC DONALDS  JPM        JOAO PESSOA   BR',\n",
    "  'valor': '-33.50',\n",
    "  'referencia': '2019-12-31'},\n",
    " {'date': '2019-09-12',\n",
    "  'descricao': 'FCIA PAGUE MENOS 126   JOAO PESSOA   BR',\n",
    "  'valor': '-61.80',\n",
    "  'referencia': '2019-12-31'},\n",
    " {'date': '2019-09-13',\n",
    "  'descricao': 'REDE PHARMA            JOAO PESSOA   BR',\n",
    "  'valor': '-14.99',\n",
    "  'referencia': '2019-12-31'},\n",
    " {'date': '2019-08-30',\n",
    "  'descricao': 'POSTO TEXACO EXPRESSO  JOAO PESSOA   BR',\n",
    "  'valor': '-176.79',\n",
    "  'referencia': '2019-12-31'},\n",
    " {'date': '2019-09-05',\n",
    "  'descricao': 'LIVRARIA NOVO DIA      JOAO PESSOA   BR',\n",
    "  'valor': '-21.90',\n",
    "  'referencia': '2019-12-31'},\n",
    " {'date': '2019-09-07',\n",
    "  'descricao': 'POSTO TANQUE CHEIO     JOAO PESSOA   BR',\n",
    "  'valor': '-54.95',\n",
    "  'referencia': '2019-12-31'},\n",
    " {'date': '2019-09-13',\n",
    "  'descricao': 'PAG*AlexandreBarbosa   JOAOPESSOA    BR',\n",
    "  'valor': '-11.00',\n",
    "  'referencia': '2019-12-31'},\n",
    " {'date': '2019-09-13',\n",
    "  'descricao': 'PAG*AlexandreBarbosa   JOAOPESSOA    BR',\n",
    "  'valor': '-11.00',\n",
    "  'referencia': '2019-12-31'},\n",
    " {'date': '2019-09-18',\n",
    "  'descricao': 'POSTO TANQUE CHEIO     JOAO PESSOA   BR',\n",
    "  'valor': '-62.37',\n",
    "  'referencia': '2019-12-31'},\n",
    " {'date': '2019-09-18',\n",
    "  'descricao': 'EPML DE INTERNET2333280PARIS         FR',\n",
    "  'valor': -165.43,\n",
    "  'referencia': '2019-12-31'},\n",
    " {'date': '2019-09-20',\n",
    "  'descricao': 'IOF - COMPRA NO EXTERIOR',\n",
    "  'valor': -10.57,\n",
    "  'referencia': '2019-12-31'},\n",
    " {'date': '2019-09-18',\n",
    "  'descricao': 'EPML DE INTERNET2333280PARIS         FR',\n",
    "  'valor': -48.63,\n",
    "  'referencia': '2019-12-31'},\n",
    " {'date': '2019-09-20',\n",
    "  'descricao': 'IOF - COMPRA NO EXTERIOR',\n",
    "  'valor': -3.09,\n",
    "  'referencia': '2019-12-31'},\n",
    " {'date': '2019-09-21',\n",
    "  'descricao': 'NETFLIX.COM            SAO PAULO     BR',\n",
    "  'valor': '-32.90',\n",
    "  'referencia': '2019-12-31'},\n",
    " {'date': '2019-09-18',\n",
    "  'descricao': 'REDE MENOR PRECO       JOAO PESSOA   BR',\n",
    "  'valor': '-28.04',\n",
    "  'referencia': '2019-12-31'},\n",
    " {'date': '2019-08-28',\n",
    "  'descricao': 'Uber Do Brasil TecnologSAO PAULO     BR',\n",
    "  'valor': '-20.99',\n",
    "  'referencia': '2019-12-31'},\n",
    " {'date': '2019-09-09',\n",
    "  'descricao': 'Uber Do Brasil TecnologSAO PAULO     BR',\n",
    "  'valor': '-22.13',\n",
    "  'referencia': '2019-12-31'},\n",
    " {'date': '2019-09-18',\n",
    "  'descricao': 'MERCPAGO*JHACESSORIOS  OSASCO        BR',\n",
    "  'valor': '-59.89',\n",
    "  'referencia': '2019-12-31'},\n",
    " {'date': '2019-09-18',\n",
    "  'descricao': 'MERCPAGO*VISIONCENTER  OSASCO        BR',\n",
    "  'valor': '-316.02',\n",
    "  'referencia': '2019-12-31'},\n",
    " {'date': '2019-09-02',\n",
    "  'descricao': 'HOTELSCOM8073378255750 SAO PAULO     BR',\n",
    "  'valor': '-494.54',\n",
    "  'referencia': '2019-12-31'},\n",
    " {'date': '2019-09-02',\n",
    "  'descricao': 'HOTELSCOM8000590413218 SAO PAULO     BR',\n",
    "  'valor': '-246.77',\n",
    "  'referencia': '2019-12-31'},\n",
    " {'date': '2019-09-25',\n",
    "  'descricao': 'PROTECAO OURO OUT/2019               BR',\n",
    "  'valor': '-3.00',\n",
    "  'referencia': '2019-12-31'},\n",
    " {'date': '2019-09-13',\n",
    "  'descricao': 'EBANX SPOTIFY          Curitiba      BR',\n",
    "  'valor': '-26.90',\n",
    "  'referencia': '2019-12-31'},\n",
    " {'date': '2019-07-09',\n",
    "  'descricao': 'OTICA DINIZ   PARC 03/04 JOAO PESSOA BR',\n",
    "  'valor': '-101.50',\n",
    "  'referencia': '2019-12-31'},\n",
    " {'date': '2019-07-09',\n",
    "  'descricao': 'BAG TO YOU    PARC 03/04 JOAO PESSOA BR',\n",
    "  'valor': '-175.00',\n",
    "  'referencia': '2019-12-31'},\n",
    " {'date': '2019-07-10',\n",
    "  'descricao': 'MIRANDA COMPU PARC 03/10 JOAO PESSOA BR',\n",
    "  'valor': '-34.90',\n",
    "  'referencia': '2019-12-31'},\n",
    " {'date': '2019-07-10',\n",
    "  'descricao': 'CENTAURO - CE PARC 03/10 JOAO PESSOA BR',\n",
    "  'valor': '-79.99',\n",
    "  'referencia': '2019-12-31'},\n",
    " {'date': '2019-08-10',\n",
    "  'descricao': 'HNA*OBOTICARI PARC 02/02 CURITIBA    BR',\n",
    "  'valor': '-121.20',\n",
    "  'referencia': '2019-12-31'}]\n",
    "```\n"
   ]
  },
  {
   "cell_type": "markdown",
   "metadata": {},
   "source": [
    "Transforme essa lista de dicionários python 'lista', equivalentes ao formato json em um arquivo json de fato:"
   ]
  },
  {
   "cell_type": "code",
   "execution_count": null,
   "metadata": {},
   "outputs": [],
   "source": [
    "import json\n",
    "with open('..dados/test.json', 'w') as fout:\n",
    "    json.dump(lista , fout, indent=4)"
   ]
  },
  {
   "cell_type": "markdown",
   "metadata": {},
   "source": [
    "## Tarefas 01 e 02 Concluídas"
   ]
  },
  {
   "cell_type": "code",
   "execution_count": null,
   "metadata": {},
   "outputs": [],
   "source": []
  }
 ],
 "metadata": {
  "kernelspec": {
   "display_name": "Python 3",
   "language": "python",
   "name": "python3"
  },
  "language_info": {
   "codemirror_mode": {
    "name": "ipython",
    "version": 3
   },
   "file_extension": ".py",
   "mimetype": "text/x-python",
   "name": "python",
   "nbconvert_exporter": "python",
   "pygments_lexer": "ipython3",
   "version": "3.7.4"
  }
 },
 "nbformat": 4,
 "nbformat_minor": 2
}
